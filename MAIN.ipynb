{
  "cells": [
    {
      "cell_type": "markdown",
      "metadata": {
        "id": "view-in-github",
        "colab_type": "text"
      },
      "source": [
        "<a href=\"https://colab.research.google.com/github/Degenal/TortoiseProjects/blob/main/MAIN.ipynb\" target=\"_parent\"><img src=\"https://colab.research.google.com/assets/colab-badge.svg\" alt=\"Open In Colab\"/></a>"
      ]
    },
    {
      "cell_type": "markdown",
      "metadata": {
        "id": "ARPitz7PoBEJ"
      },
      "source": [
        "# **Prepare Env**\n",
        "\n",
        "---\n",
        "\n"
      ]
    },
    {
      "cell_type": "code",
      "execution_count": 9,
      "metadata": {
        "id": "CWTl9cGsSZbN"
      },
      "outputs": [],
      "source": [
        "text = ''' ... '''"
      ]
    },
    {
      "cell_type": "code",
      "execution_count": 2,
      "metadata": {
        "colab": {
          "base_uri": "https://localhost:8080/"
        },
        "collapsed": true,
        "id": "KDCd0r49F9sQ",
        "outputId": "9876b2f3-80f3-4bd5-a345-c1553fcdccbb"
      },
      "outputs": [
        {
          "output_type": "stream",
          "name": "stdout",
          "text": [
            "Cloning into 'VoiceCloning'...\n",
            "remote: Enumerating objects: 169, done.\u001b[K\n",
            "remote: Counting objects: 100% (169/169), done.\u001b[K\n",
            "remote: Compressing objects: 100% (163/163), done.\u001b[K\n",
            "remote: Total 169 (delta 82), reused 0 (delta 0), pack-reused 0 (from 0)\u001b[K\n",
            "Receiving objects: 100% (169/169), 25.04 MiB | 11.96 MiB/s, done.\n",
            "Resolving deltas: 100% (82/82), done.\n",
            "/content/VoiceCloning\n"
          ]
        }
      ],
      "source": [
        "!git clone https://github.com/Degenal/VoiceCloning.git\n",
        "%cd VoiceCloning\n",
        "from FUNCTIONS import *\n",
        "VOICES = getVoiceDir(7) #input determines how many voices to clone"
      ]
    },
    {
      "cell_type": "code",
      "execution_count": 10,
      "metadata": {
        "colab": {
          "base_uri": "https://localhost:8080/",
          "height": 56
        },
        "id": "gX5hJWSJZfhB",
        "outputId": "8b84e52a-e874-45bf-aec5-691c12afbbb4"
      },
      "outputs": [
        {
          "output_type": "stream",
          "name": "stdout",
          "text": [
            "S1 = '''...'''\n"
          ]
        },
        {
          "output_type": "display_data",
          "data": {
            "text/plain": [
              "<IPython.core.display.HTML object>"
            ],
            "text/html": [
              "\n",
              "<button onclick=\"copyToClipboard()\">Copy Output</button>\n",
              "<script>\n",
              "function copyToClipboard() {\n",
              "  const outputText = `S1 = '''...'''`;\n",
              "  const el = document.createElement('textarea');\n",
              "  el.value = outputText;\n",
              "  document.body.appendChild(el);\n",
              "  el.select();\n",
              "  document.execCommand('copy');\n",
              "  document.body.removeChild(el);\n",
              "  alert('Output copied to clipboard');\n",
              "}\n",
              "</script>\n"
            ]
          },
          "metadata": {}
        }
      ],
      "source": [
        "button_html = sentence_split(text)"
      ]
    },
    {
      "cell_type": "markdown",
      "metadata": {
        "id": "4lcntwL7oU4S"
      },
      "source": [
        "**Install Tortoise (T2S)**\n",
        "\n",
        "---\n",
        "\n"
      ]
    },
    {
      "cell_type": "markdown",
      "metadata": {
        "id": "MyioDm0AonCy"
      },
      "source": [
        "# **Install Tortoise**\n",
        "\n",
        "---"
      ]
    },
    {
      "cell_type": "code",
      "execution_count": 4,
      "metadata": {
        "colab": {
          "base_uri": "https://localhost:8080/"
        },
        "collapsed": true,
        "id": "7I1s0t3VSJ3d",
        "outputId": "74679761-5863-47b0-bc72-c641ac100e78"
      },
      "outputs": [
        {
          "output_type": "stream",
          "name": "stdout",
          "text": [
            "Requirement already satisfied: scipy in /usr/local/lib/python3.10/dist-packages (1.13.1)\n",
            "Collecting scipy\n",
            "  Downloading scipy-1.14.1-cp310-cp310-manylinux_2_17_x86_64.manylinux2014_x86_64.whl.metadata (60 kB)\n",
            "\u001b[2K     \u001b[90m━━━━━━━━━━━━━━━━━━━━━━━━━━━━━━━━━━━━━━━━\u001b[0m \u001b[32m60.8/60.8 kB\u001b[0m \u001b[31m432.0 kB/s\u001b[0m eta \u001b[36m0:00:00\u001b[0m\n",
            "\u001b[?25hRequirement already satisfied: numpy<2.3,>=1.23.5 in /usr/local/lib/python3.10/dist-packages (from scipy) (1.26.4)\n",
            "Downloading scipy-1.14.1-cp310-cp310-manylinux_2_17_x86_64.manylinux2014_x86_64.whl (41.2 MB)\n",
            "\u001b[2K   \u001b[90m━━━━━━━━━━━━━━━━━━━━━━━━━━━━━━━━━━━━━━━━\u001b[0m \u001b[32m41.2/41.2 MB\u001b[0m \u001b[31m11.3 MB/s\u001b[0m eta \u001b[36m0:00:00\u001b[0m\n",
            "\u001b[?25hInstalling collected packages: scipy\n",
            "  Attempting uninstall: scipy\n",
            "    Found existing installation: scipy 1.13.1\n",
            "    Uninstalling scipy-1.13.1:\n",
            "      Successfully uninstalled scipy-1.13.1\n",
            "\u001b[31mERROR: pip's dependency resolver does not currently take into account all the packages that are installed. This behaviour is the source of the following dependency conflicts.\n",
            "gensim 4.3.3 requires scipy<1.14.0,>=1.7.0, but you have scipy 1.14.1 which is incompatible.\u001b[0m\u001b[31m\n",
            "\u001b[0mSuccessfully installed scipy-1.14.1\n",
            "Cloning into 'tortoise-tts'...\n",
            "remote: Enumerating objects: 1481, done.\u001b[K\n",
            "remote: Total 1481 (delta 0), reused 0 (delta 0), pack-reused 1481 (from 1)\u001b[K\n",
            "Receiving objects: 100% (1481/1481), 53.56 MiB | 23.42 MiB/s, done.\n",
            "Resolving deltas: 100% (604/604), done.\n",
            "/content/VoiceCloning/tortoise-tts\n",
            "Requirement already satisfied: tqdm in /usr/local/lib/python3.10/dist-packages (from -r requirements.txt (line 1)) (4.66.5)\n",
            "Collecting rotary_embedding_torch (from -r requirements.txt (line 2))\n",
            "  Downloading rotary_embedding_torch-0.8.4-py3-none-any.whl.metadata (678 bytes)\n",
            "Requirement already satisfied: transformers in /usr/local/lib/python3.10/dist-packages (from -r requirements.txt (line 3)) (4.44.2)\n",
            "Requirement already satisfied: tokenizers in /usr/local/lib/python3.10/dist-packages (from -r requirements.txt (line 4)) (0.19.1)\n",
            "Requirement already satisfied: inflect in /usr/local/lib/python3.10/dist-packages (from -r requirements.txt (line 5)) (7.4.0)\n",
            "Collecting progressbar (from -r requirements.txt (line 6))\n",
            "  Downloading progressbar-2.5.tar.gz (10 kB)\n",
            "  Preparing metadata (setup.py) ... \u001b[?25l\u001b[?25hdone\n",
            "Requirement already satisfied: einops in /usr/local/lib/python3.10/dist-packages (from -r requirements.txt (line 7)) (0.8.0)\n",
            "Collecting unidecode (from -r requirements.txt (line 8))\n",
            "  Downloading Unidecode-1.3.8-py3-none-any.whl.metadata (13 kB)\n",
            "Requirement already satisfied: scipy in /usr/local/lib/python3.10/dist-packages (from -r requirements.txt (line 9)) (1.14.1)\n",
            "Requirement already satisfied: librosa in /usr/local/lib/python3.10/dist-packages (from -r requirements.txt (line 10)) (0.10.2.post1)\n",
            "Collecting numba==0.48.0 (from -r requirements.txt (line 11))\n",
            "  Downloading numba-0.48.0.tar.gz (2.0 MB)\n",
            "\u001b[2K     \u001b[90m━━━━━━━━━━━━━━━━━━━━━━━━━━━━━━━━━━━━━━━━\u001b[0m \u001b[32m2.0/2.0 MB\u001b[0m \u001b[31m34.5 MB/s\u001b[0m eta \u001b[36m0:00:00\u001b[0m\n",
            "\u001b[?25h  Preparing metadata (setup.py) ... \u001b[?25l\u001b[?25hdone\n",
            "Collecting ffmpeg (from -r requirements.txt (line 12))\n",
            "  Downloading ffmpeg-1.4.tar.gz (5.1 kB)\n",
            "  Preparing metadata (setup.py) ... \u001b[?25l\u001b[?25hdone\n",
            "Collecting llvmlite<0.32.0,>=0.31.0dev0 (from numba==0.48.0->-r requirements.txt (line 11))\n",
            "  Downloading llvmlite-0.31.0.tar.gz (110 kB)\n",
            "\u001b[2K     \u001b[90m━━━━━━━━━━━━━━━━━━━━━━━━━━━━━━━━━━━━━━━━\u001b[0m \u001b[32m110.8/110.8 kB\u001b[0m \u001b[31m8.7 MB/s\u001b[0m eta \u001b[36m0:00:00\u001b[0m\n",
            "\u001b[?25h  Preparing metadata (setup.py) ... \u001b[?25l\u001b[?25hdone\n",
            "Requirement already satisfied: numpy>=1.15 in /usr/local/lib/python3.10/dist-packages (from numba==0.48.0->-r requirements.txt (line 11)) (1.26.4)\n",
            "Requirement already satisfied: setuptools in /usr/local/lib/python3.10/dist-packages (from numba==0.48.0->-r requirements.txt (line 11)) (75.1.0)\n",
            "Requirement already satisfied: torch>=2.0 in /usr/local/lib/python3.10/dist-packages (from rotary_embedding_torch->-r requirements.txt (line 2)) (2.5.0+cu121)\n",
            "Requirement already satisfied: filelock in /usr/local/lib/python3.10/dist-packages (from transformers->-r requirements.txt (line 3)) (3.16.1)\n",
            "Requirement already satisfied: huggingface-hub<1.0,>=0.23.2 in /usr/local/lib/python3.10/dist-packages (from transformers->-r requirements.txt (line 3)) (0.24.7)\n",
            "Requirement already satisfied: packaging>=20.0 in /usr/local/lib/python3.10/dist-packages (from transformers->-r requirements.txt (line 3)) (24.1)\n",
            "Requirement already satisfied: pyyaml>=5.1 in /usr/local/lib/python3.10/dist-packages (from transformers->-r requirements.txt (line 3)) (6.0.2)\n",
            "Requirement already satisfied: regex!=2019.12.17 in /usr/local/lib/python3.10/dist-packages (from transformers->-r requirements.txt (line 3)) (2024.9.11)\n",
            "Requirement already satisfied: requests in /usr/local/lib/python3.10/dist-packages (from transformers->-r requirements.txt (line 3)) (2.32.3)\n",
            "Requirement already satisfied: safetensors>=0.4.1 in /usr/local/lib/python3.10/dist-packages (from transformers->-r requirements.txt (line 3)) (0.4.5)\n",
            "Requirement already satisfied: more-itertools>=8.5.0 in /usr/local/lib/python3.10/dist-packages (from inflect->-r requirements.txt (line 5)) (10.5.0)\n",
            "Requirement already satisfied: typeguard>=4.0.1 in /usr/local/lib/python3.10/dist-packages (from inflect->-r requirements.txt (line 5)) (4.3.0)\n",
            "Requirement already satisfied: audioread>=2.1.9 in /usr/local/lib/python3.10/dist-packages (from librosa->-r requirements.txt (line 10)) (3.0.1)\n",
            "Requirement already satisfied: scikit-learn>=0.20.0 in /usr/local/lib/python3.10/dist-packages (from librosa->-r requirements.txt (line 10)) (1.5.2)\n",
            "Requirement already satisfied: joblib>=0.14 in /usr/local/lib/python3.10/dist-packages (from librosa->-r requirements.txt (line 10)) (1.4.2)\n",
            "Requirement already satisfied: decorator>=4.3.0 in /usr/local/lib/python3.10/dist-packages (from librosa->-r requirements.txt (line 10)) (4.4.2)\n",
            "INFO: pip is looking at multiple versions of librosa to determine which version is compatible with other requirements. This could take a while.\n",
            "Collecting librosa (from -r requirements.txt (line 10))\n",
            "  Downloading librosa-0.10.2-py3-none-any.whl.metadata (8.6 kB)\n",
            "  Downloading librosa-0.10.1-py3-none-any.whl.metadata (8.3 kB)\n",
            "  Downloading librosa-0.10.0.post2-py3-none-any.whl.metadata (8.3 kB)\n",
            "  Downloading librosa-0.10.0.post1-py3-none-any.whl.metadata (8.3 kB)\n",
            "  Downloading librosa-0.10.0-py3-none-any.whl.metadata (8.3 kB)\n",
            "  Downloading librosa-0.9.2-py3-none-any.whl.metadata (8.2 kB)\n",
            "Collecting resampy>=0.2.2 (from librosa->-r requirements.txt (line 10))\n",
            "  Downloading resampy-0.4.3-py3-none-any.whl.metadata (3.0 kB)\n",
            "Requirement already satisfied: soundfile>=0.10.2 in /usr/local/lib/python3.10/dist-packages (from librosa->-r requirements.txt (line 10)) (0.12.1)\n",
            "Requirement already satisfied: pooch>=1.0 in /usr/local/lib/python3.10/dist-packages (from librosa->-r requirements.txt (line 10)) (1.8.2)\n",
            "Requirement already satisfied: fsspec>=2023.5.0 in /usr/local/lib/python3.10/dist-packages (from huggingface-hub<1.0,>=0.23.2->transformers->-r requirements.txt (line 3)) (2024.6.1)\n",
            "Requirement already satisfied: typing-extensions>=3.7.4.3 in /usr/local/lib/python3.10/dist-packages (from huggingface-hub<1.0,>=0.23.2->transformers->-r requirements.txt (line 3)) (4.12.2)\n",
            "Requirement already satisfied: platformdirs>=2.5.0 in /usr/local/lib/python3.10/dist-packages (from pooch>=1.0->librosa->-r requirements.txt (line 10)) (4.3.6)\n",
            "Requirement already satisfied: charset-normalizer<4,>=2 in /usr/local/lib/python3.10/dist-packages (from requests->transformers->-r requirements.txt (line 3)) (3.4.0)\n",
            "Requirement already satisfied: idna<4,>=2.5 in /usr/local/lib/python3.10/dist-packages (from requests->transformers->-r requirements.txt (line 3)) (3.10)\n",
            "Requirement already satisfied: urllib3<3,>=1.21.1 in /usr/local/lib/python3.10/dist-packages (from requests->transformers->-r requirements.txt (line 3)) (2.2.3)\n",
            "Requirement already satisfied: certifi>=2017.4.17 in /usr/local/lib/python3.10/dist-packages (from requests->transformers->-r requirements.txt (line 3)) (2024.8.30)\n",
            "INFO: pip is looking at multiple versions of resampy to determine which version is compatible with other requirements. This could take a while.\n",
            "  Downloading resampy-0.4.2-py3-none-any.whl.metadata (2.8 kB)\n",
            "  Downloading resampy-0.4.1-py3-none-any.whl.metadata (2.8 kB)\n",
            "  Downloading resampy-0.4.0-py3-none-any.whl.metadata (2.8 kB)\n",
            "  Downloading resampy-0.3.1-py3-none-any.whl.metadata (2.8 kB)\n",
            "Requirement already satisfied: threadpoolctl>=3.1.0 in /usr/local/lib/python3.10/dist-packages (from scikit-learn>=0.20.0->librosa->-r requirements.txt (line 10)) (3.5.0)\n",
            "Requirement already satisfied: cffi>=1.0 in /usr/local/lib/python3.10/dist-packages (from soundfile>=0.10.2->librosa->-r requirements.txt (line 10)) (1.17.1)\n",
            "Requirement already satisfied: networkx in /usr/local/lib/python3.10/dist-packages (from torch>=2.0->rotary_embedding_torch->-r requirements.txt (line 2)) (3.4.2)\n",
            "Requirement already satisfied: jinja2 in /usr/local/lib/python3.10/dist-packages (from torch>=2.0->rotary_embedding_torch->-r requirements.txt (line 2)) (3.1.4)\n",
            "Requirement already satisfied: sympy==1.13.1 in /usr/local/lib/python3.10/dist-packages (from torch>=2.0->rotary_embedding_torch->-r requirements.txt (line 2)) (1.13.1)\n",
            "Requirement already satisfied: mpmath<1.4,>=1.1.0 in /usr/local/lib/python3.10/dist-packages (from sympy==1.13.1->torch>=2.0->rotary_embedding_torch->-r requirements.txt (line 2)) (1.3.0)\n",
            "Requirement already satisfied: pycparser in /usr/local/lib/python3.10/dist-packages (from cffi>=1.0->soundfile>=0.10.2->librosa->-r requirements.txt (line 10)) (2.22)\n",
            "Requirement already satisfied: MarkupSafe>=2.0 in /usr/local/lib/python3.10/dist-packages (from jinja2->torch>=2.0->rotary_embedding_torch->-r requirements.txt (line 2)) (3.0.2)\n",
            "Downloading rotary_embedding_torch-0.8.4-py3-none-any.whl (5.6 kB)\n",
            "Downloading Unidecode-1.3.8-py3-none-any.whl (235 kB)\n",
            "\u001b[2K   \u001b[90m━━━━━━━━━━━━━━━━━━━━━━━━━━━━━━━━━━━━━━━━\u001b[0m \u001b[32m235.5/235.5 kB\u001b[0m \u001b[31m14.9 MB/s\u001b[0m eta \u001b[36m0:00:00\u001b[0m\n",
            "\u001b[?25hDownloading librosa-0.9.2-py3-none-any.whl (214 kB)\n",
            "\u001b[2K   \u001b[90m━━━━━━━━━━━━━━━━━━━━━━━━━━━━━━━━━━━━━━━━\u001b[0m \u001b[32m214.3/214.3 kB\u001b[0m \u001b[31m16.4 MB/s\u001b[0m eta \u001b[36m0:00:00\u001b[0m\n",
            "\u001b[?25hDownloading resampy-0.3.1-py3-none-any.whl (3.1 MB)\n",
            "\u001b[2K   \u001b[90m━━━━━━━━━━━━━━━━━━━━━━━━━━━━━━━━━━━━━━━━\u001b[0m \u001b[32m3.1/3.1 MB\u001b[0m \u001b[31m50.4 MB/s\u001b[0m eta \u001b[36m0:00:00\u001b[0m\n",
            "\u001b[?25hBuilding wheels for collected packages: numba, progressbar, ffmpeg, llvmlite\n",
            "  \u001b[1;31merror\u001b[0m: \u001b[1msubprocess-exited-with-error\u001b[0m\n",
            "  \n",
            "  \u001b[31m×\u001b[0m \u001b[32mpython setup.py bdist_wheel\u001b[0m did not run successfully.\n",
            "  \u001b[31m│\u001b[0m exit code: \u001b[1;36m1\u001b[0m\n",
            "  \u001b[31m╰─>\u001b[0m See above for output.\n",
            "  \n",
            "  \u001b[1;35mnote\u001b[0m: This error originates from a subprocess, and is likely not a problem with pip.\n",
            "  Building wheel for numba (setup.py) ... \u001b[?25lerror\n",
            "\u001b[31m  ERROR: Failed building wheel for numba\u001b[0m\u001b[31m\n",
            "\u001b[0m\u001b[?25h  Running setup.py clean for numba\n",
            "  Building wheel for progressbar (setup.py) ... \u001b[?25l\u001b[?25hdone\n",
            "  Created wheel for progressbar: filename=progressbar-2.5-py3-none-any.whl size=12066 sha256=72d5448be988a826d71ede6e512fd6f4c8a2d8a0536846c7c930c59ae6cd14fc\n",
            "  Stored in directory: /root/.cache/pip/wheels/cd/17/e5/765d1a3112ff3978f70223502f6047e06c43a24d7c5f8ff95b\n",
            "  Building wheel for ffmpeg (setup.py) ... \u001b[?25l\u001b[?25hdone\n",
            "  Created wheel for ffmpeg: filename=ffmpeg-1.4-py3-none-any.whl size=6082 sha256=08cdf77630f502f117d6f68a0a024477defd3e50076379ce44cf37906f76cbad\n",
            "  Stored in directory: /root/.cache/pip/wheels/8e/7a/69/cd6aeb83b126a7f04cbe7c9d929028dc52a6e7d525ff56003a\n",
            "  \u001b[1;31merror\u001b[0m: \u001b[1msubprocess-exited-with-error\u001b[0m\n",
            "  \n",
            "  \u001b[31m×\u001b[0m \u001b[32mpython setup.py bdist_wheel\u001b[0m did not run successfully.\n",
            "  \u001b[31m│\u001b[0m exit code: \u001b[1;36m1\u001b[0m\n",
            "  \u001b[31m╰─>\u001b[0m See above for output.\n",
            "  \n",
            "  \u001b[1;35mnote\u001b[0m: This error originates from a subprocess, and is likely not a problem with pip.\n",
            "  Building wheel for llvmlite (setup.py) ... \u001b[?25lerror\n",
            "\u001b[31m  ERROR: Failed building wheel for llvmlite\u001b[0m\u001b[31m\n",
            "\u001b[0m\u001b[?25h  Running setup.py clean for llvmlite\n",
            "Successfully built progressbar ffmpeg\n",
            "Failed to build numba llvmlite\n",
            "\u001b[31mERROR: ERROR: Failed to build installable wheels for some pyproject.toml based projects (numba, llvmlite)\u001b[0m\u001b[31m\n",
            "\u001b[0mCollecting transformers==4.19.0\n",
            "  Downloading transformers-4.19.0-py3-none-any.whl.metadata (73 kB)\n",
            "\u001b[2K     \u001b[90m━━━━━━━━━━━━━━━━━━━━━━━━━━━━━━━━━━━━━━━━\u001b[0m \u001b[32m73.2/73.2 kB\u001b[0m \u001b[31m4.3 MB/s\u001b[0m eta \u001b[36m0:00:00\u001b[0m\n",
            "\u001b[?25hCollecting einops==0.5.0\n",
            "  Downloading einops-0.5.0-py3-none-any.whl.metadata (11 kB)\n",
            "Collecting rotary_embedding_torch==0.1.5\n",
            "  Downloading rotary_embedding_torch-0.1.5-py3-none-any.whl.metadata (669 bytes)\n",
            "Collecting unidecode==1.3.5\n",
            "  Downloading Unidecode-1.3.5-py3-none-any.whl.metadata (13 kB)\n",
            "Requirement already satisfied: filelock in /usr/local/lib/python3.10/dist-packages (from transformers==4.19.0) (3.16.1)\n",
            "Requirement already satisfied: huggingface-hub<1.0,>=0.1.0 in /usr/local/lib/python3.10/dist-packages (from transformers==4.19.0) (0.24.7)\n",
            "Requirement already satisfied: numpy>=1.17 in /usr/local/lib/python3.10/dist-packages (from transformers==4.19.0) (1.26.4)\n",
            "Requirement already satisfied: packaging>=20.0 in /usr/local/lib/python3.10/dist-packages (from transformers==4.19.0) (24.1)\n",
            "Requirement already satisfied: pyyaml>=5.1 in /usr/local/lib/python3.10/dist-packages (from transformers==4.19.0) (6.0.2)\n",
            "Requirement already satisfied: regex!=2019.12.17 in /usr/local/lib/python3.10/dist-packages (from transformers==4.19.0) (2024.9.11)\n",
            "Requirement already satisfied: requests in /usr/local/lib/python3.10/dist-packages (from transformers==4.19.0) (2.32.3)\n",
            "Collecting tokenizers!=0.11.3,<0.13,>=0.11.1 (from transformers==4.19.0)\n",
            "  Downloading tokenizers-0.12.1-cp310-cp310-manylinux_2_12_x86_64.manylinux2010_x86_64.whl.metadata (6.5 kB)\n",
            "Requirement already satisfied: tqdm>=4.27 in /usr/local/lib/python3.10/dist-packages (from transformers==4.19.0) (4.66.5)\n",
            "Requirement already satisfied: torch>=1.6 in /usr/local/lib/python3.10/dist-packages (from rotary_embedding_torch==0.1.5) (2.5.0+cu121)\n",
            "Requirement already satisfied: fsspec>=2023.5.0 in /usr/local/lib/python3.10/dist-packages (from huggingface-hub<1.0,>=0.1.0->transformers==4.19.0) (2024.6.1)\n",
            "Requirement already satisfied: typing-extensions>=3.7.4.3 in /usr/local/lib/python3.10/dist-packages (from huggingface-hub<1.0,>=0.1.0->transformers==4.19.0) (4.12.2)\n",
            "Requirement already satisfied: networkx in /usr/local/lib/python3.10/dist-packages (from torch>=1.6->rotary_embedding_torch==0.1.5) (3.4.2)\n",
            "Requirement already satisfied: jinja2 in /usr/local/lib/python3.10/dist-packages (from torch>=1.6->rotary_embedding_torch==0.1.5) (3.1.4)\n",
            "Requirement already satisfied: sympy==1.13.1 in /usr/local/lib/python3.10/dist-packages (from torch>=1.6->rotary_embedding_torch==0.1.5) (1.13.1)\n",
            "Requirement already satisfied: mpmath<1.4,>=1.1.0 in /usr/local/lib/python3.10/dist-packages (from sympy==1.13.1->torch>=1.6->rotary_embedding_torch==0.1.5) (1.3.0)\n",
            "Requirement already satisfied: charset-normalizer<4,>=2 in /usr/local/lib/python3.10/dist-packages (from requests->transformers==4.19.0) (3.4.0)\n",
            "Requirement already satisfied: idna<4,>=2.5 in /usr/local/lib/python3.10/dist-packages (from requests->transformers==4.19.0) (3.10)\n",
            "Requirement already satisfied: urllib3<3,>=1.21.1 in /usr/local/lib/python3.10/dist-packages (from requests->transformers==4.19.0) (2.2.3)\n",
            "Requirement already satisfied: certifi>=2017.4.17 in /usr/local/lib/python3.10/dist-packages (from requests->transformers==4.19.0) (2024.8.30)\n",
            "Requirement already satisfied: MarkupSafe>=2.0 in /usr/local/lib/python3.10/dist-packages (from jinja2->torch>=1.6->rotary_embedding_torch==0.1.5) (3.0.2)\n",
            "\u001b[33mWARNING: The candidate selected for download or install is a yanked version: 'unidecode' candidate (version 1.3.5 at https://files.pythonhosted.org/packages/7c/bb/a1cea9ce56434cdb59cb4c8b7bf91b190011b7000fb0a12b44fa0a3daa86/Unidecode-1.3.5-py3-none-any.whl (from https://pypi.org/simple/unidecode/) (requires-python:>=3.5))\n",
            "Reason for being yanked: wrong version of the code was released in the .whl package\u001b[0m\u001b[33m\n",
            "\u001b[0mDownloading transformers-4.19.0-py3-none-any.whl (4.2 MB)\n",
            "\u001b[2K   \u001b[90m━━━━━━━━━━━━━━━━━━━━━━━━━━━━━━━━━━━━━━━━\u001b[0m \u001b[32m4.2/4.2 MB\u001b[0m \u001b[31m58.9 MB/s\u001b[0m eta \u001b[36m0:00:00\u001b[0m\n",
            "\u001b[?25hDownloading einops-0.5.0-py3-none-any.whl (36 kB)\n",
            "Downloading rotary_embedding_torch-0.1.5-py3-none-any.whl (4.1 kB)\n",
            "Downloading Unidecode-1.3.5-py3-none-any.whl (236 kB)\n",
            "\u001b[2K   \u001b[90m━━━━━━━━━━━━━━━━━━━━━━━━━━━━━━━━━━━━━━━━\u001b[0m \u001b[32m236.5/236.5 kB\u001b[0m \u001b[31m18.0 MB/s\u001b[0m eta \u001b[36m0:00:00\u001b[0m\n",
            "\u001b[?25hDownloading tokenizers-0.12.1-cp310-cp310-manylinux_2_12_x86_64.manylinux2010_x86_64.whl (6.6 MB)\n",
            "\u001b[2K   \u001b[90m━━━━━━━━━━━━━━━━━━━━━━━━━━━━━━━━━━━━━━━━\u001b[0m \u001b[32m6.6/6.6 MB\u001b[0m \u001b[31m73.3 MB/s\u001b[0m eta \u001b[36m0:00:00\u001b[0m\n",
            "\u001b[?25hInstalling collected packages: tokenizers, unidecode, einops, transformers, rotary_embedding_torch\n",
            "  Attempting uninstall: tokenizers\n",
            "    Found existing installation: tokenizers 0.19.1\n",
            "    Uninstalling tokenizers-0.19.1:\n",
            "      Successfully uninstalled tokenizers-0.19.1\n",
            "  Attempting uninstall: einops\n",
            "    Found existing installation: einops 0.8.0\n",
            "    Uninstalling einops-0.8.0:\n",
            "      Successfully uninstalled einops-0.8.0\n",
            "  Attempting uninstall: transformers\n",
            "    Found existing installation: transformers 4.44.2\n",
            "    Uninstalling transformers-4.44.2:\n",
            "      Successfully uninstalled transformers-4.44.2\n",
            "Successfully installed einops-0.5.0 rotary_embedding_torch-0.1.5 tokenizers-0.12.1 transformers-4.19.0 unidecode-1.3.5\n",
            "running install\n",
            "/usr/local/lib/python3.10/dist-packages/setuptools/_distutils/cmd.py:66: SetuptoolsDeprecationWarning: setup.py install is deprecated.\n",
            "!!\n",
            "\n",
            "        ********************************************************************************\n",
            "        Please avoid running ``setup.py`` directly.\n",
            "        Instead, use pypa/build, pypa/installer or other\n",
            "        standards-based tools.\n",
            "\n",
            "        See https://blog.ganssle.io/articles/2021/10/setup-py-deprecated.html for details.\n",
            "        ********************************************************************************\n",
            "\n",
            "!!\n",
            "  self.initialize_options()\n",
            "/usr/local/lib/python3.10/dist-packages/setuptools/_distutils/cmd.py:66: EasyInstallDeprecationWarning: easy_install command is deprecated.\n",
            "!!\n",
            "\n",
            "        ********************************************************************************\n",
            "        Please avoid running ``setup.py`` and ``easy_install``.\n",
            "        Instead, use pypa/build, pypa/installer or other\n",
            "        standards-based tools.\n",
            "\n",
            "        See https://github.com/pypa/setuptools/issues/917 for details.\n",
            "        ********************************************************************************\n",
            "\n",
            "!!\n",
            "  self.initialize_options()\n",
            "running bdist_egg\n",
            "running egg_info\n",
            "creating TorToiSe.egg-info\n",
            "writing TorToiSe.egg-info/PKG-INFO\n",
            "writing dependency_links to TorToiSe.egg-info/dependency_links.txt\n",
            "writing requirements to TorToiSe.egg-info/requires.txt\n",
            "writing top-level names to TorToiSe.egg-info/top_level.txt\n",
            "writing manifest file 'TorToiSe.egg-info/SOURCES.txt'\n",
            "reading manifest file 'TorToiSe.egg-info/SOURCES.txt'\n",
            "adding license file 'LICENSE'\n",
            "writing manifest file 'TorToiSe.egg-info/SOURCES.txt'\n",
            "installing library code to build/bdist.linux-x86_64/egg\n",
            "running install_lib\n",
            "running build_py\n",
            "creating build/lib/tortoise\n",
            "copying tortoise/eval.py -> build/lib/tortoise\n",
            "copying tortoise/api.py -> build/lib/tortoise\n",
            "copying tortoise/read.py -> build/lib/tortoise\n",
            "copying tortoise/is_this_from_tortoise.py -> build/lib/tortoise\n",
            "copying tortoise/get_conditioning_latents.py -> build/lib/tortoise\n",
            "copying tortoise/do_tts.py -> build/lib/tortoise\n",
            "copying tortoise/__init__.py -> build/lib/tortoise\n",
            "creating build/lib/tortoise/utils\n",
            "copying tortoise/utils/stft.py -> build/lib/tortoise/utils\n",
            "copying tortoise/utils/samples_generator.py -> build/lib/tortoise/utils\n",
            "copying tortoise/utils/text.py -> build/lib/tortoise/utils\n",
            "copying tortoise/utils/tokenizer.py -> build/lib/tortoise/utils\n",
            "copying tortoise/utils/diffusion.py -> build/lib/tortoise/utils\n",
            "copying tortoise/utils/typical_sampling.py -> build/lib/tortoise/utils\n",
            "copying tortoise/utils/wav2vec_alignment.py -> build/lib/tortoise/utils\n",
            "copying tortoise/utils/audio.py -> build/lib/tortoise/utils\n",
            "copying tortoise/utils/__init__.py -> build/lib/tortoise/utils\n",
            "creating build/lib/tortoise/models\n",
            "copying tortoise/models/transformer.py -> build/lib/tortoise/models\n",
            "copying tortoise/models/arch_util.py -> build/lib/tortoise/models\n",
            "copying tortoise/models/vocoder.py -> build/lib/tortoise/models\n",
            "copying tortoise/models/xtransformers.py -> build/lib/tortoise/models\n",
            "copying tortoise/models/autoregressive.py -> build/lib/tortoise/models\n",
            "copying tortoise/models/classifier.py -> build/lib/tortoise/models\n",
            "copying tortoise/models/random_latent_generator.py -> build/lib/tortoise/models\n",
            "copying tortoise/models/diffusion_decoder.py -> build/lib/tortoise/models\n",
            "copying tortoise/models/clvp.py -> build/lib/tortoise/models\n",
            "copying tortoise/models/cvvp.py -> build/lib/tortoise/models\n",
            "copying tortoise/models/__init__.py -> build/lib/tortoise/models\n",
            "creating build/bdist.linux-x86_64/egg\n",
            "creating build/bdist.linux-x86_64/egg/tortoise\n",
            "copying build/lib/tortoise/eval.py -> build/bdist.linux-x86_64/egg/tortoise\n",
            "copying build/lib/tortoise/api.py -> build/bdist.linux-x86_64/egg/tortoise\n",
            "copying build/lib/tortoise/read.py -> build/bdist.linux-x86_64/egg/tortoise\n",
            "copying build/lib/tortoise/is_this_from_tortoise.py -> build/bdist.linux-x86_64/egg/tortoise\n",
            "creating build/bdist.linux-x86_64/egg/tortoise/utils\n",
            "copying build/lib/tortoise/utils/stft.py -> build/bdist.linux-x86_64/egg/tortoise/utils\n",
            "copying build/lib/tortoise/utils/samples_generator.py -> build/bdist.linux-x86_64/egg/tortoise/utils\n",
            "copying build/lib/tortoise/utils/text.py -> build/bdist.linux-x86_64/egg/tortoise/utils\n",
            "copying build/lib/tortoise/utils/tokenizer.py -> build/bdist.linux-x86_64/egg/tortoise/utils\n",
            "copying build/lib/tortoise/utils/diffusion.py -> build/bdist.linux-x86_64/egg/tortoise/utils\n",
            "copying build/lib/tortoise/utils/typical_sampling.py -> build/bdist.linux-x86_64/egg/tortoise/utils\n",
            "copying build/lib/tortoise/utils/wav2vec_alignment.py -> build/bdist.linux-x86_64/egg/tortoise/utils\n",
            "copying build/lib/tortoise/utils/audio.py -> build/bdist.linux-x86_64/egg/tortoise/utils\n",
            "copying build/lib/tortoise/utils/__init__.py -> build/bdist.linux-x86_64/egg/tortoise/utils\n",
            "copying build/lib/tortoise/get_conditioning_latents.py -> build/bdist.linux-x86_64/egg/tortoise\n",
            "copying build/lib/tortoise/do_tts.py -> build/bdist.linux-x86_64/egg/tortoise\n",
            "creating build/bdist.linux-x86_64/egg/tortoise/models\n",
            "copying build/lib/tortoise/models/transformer.py -> build/bdist.linux-x86_64/egg/tortoise/models\n",
            "copying build/lib/tortoise/models/arch_util.py -> build/bdist.linux-x86_64/egg/tortoise/models\n",
            "copying build/lib/tortoise/models/vocoder.py -> build/bdist.linux-x86_64/egg/tortoise/models\n",
            "copying build/lib/tortoise/models/xtransformers.py -> build/bdist.linux-x86_64/egg/tortoise/models\n",
            "copying build/lib/tortoise/models/autoregressive.py -> build/bdist.linux-x86_64/egg/tortoise/models\n",
            "copying build/lib/tortoise/models/classifier.py -> build/bdist.linux-x86_64/egg/tortoise/models\n",
            "copying build/lib/tortoise/models/random_latent_generator.py -> build/bdist.linux-x86_64/egg/tortoise/models\n",
            "copying build/lib/tortoise/models/diffusion_decoder.py -> build/bdist.linux-x86_64/egg/tortoise/models\n",
            "copying build/lib/tortoise/models/clvp.py -> build/bdist.linux-x86_64/egg/tortoise/models\n",
            "copying build/lib/tortoise/models/cvvp.py -> build/bdist.linux-x86_64/egg/tortoise/models\n",
            "copying build/lib/tortoise/models/__init__.py -> build/bdist.linux-x86_64/egg/tortoise/models\n",
            "copying build/lib/tortoise/__init__.py -> build/bdist.linux-x86_64/egg/tortoise\n",
            "byte-compiling build/bdist.linux-x86_64/egg/tortoise/eval.py to eval.cpython-310.pyc\n",
            "byte-compiling build/bdist.linux-x86_64/egg/tortoise/api.py to api.cpython-310.pyc\n",
            "byte-compiling build/bdist.linux-x86_64/egg/tortoise/read.py to read.cpython-310.pyc\n",
            "byte-compiling build/bdist.linux-x86_64/egg/tortoise/is_this_from_tortoise.py to is_this_from_tortoise.cpython-310.pyc\n",
            "byte-compiling build/bdist.linux-x86_64/egg/tortoise/utils/stft.py to stft.cpython-310.pyc\n",
            "byte-compiling build/bdist.linux-x86_64/egg/tortoise/utils/samples_generator.py to samples_generator.cpython-310.pyc\n",
            "byte-compiling build/bdist.linux-x86_64/egg/tortoise/utils/text.py to text.cpython-310.pyc\n",
            "byte-compiling build/bdist.linux-x86_64/egg/tortoise/utils/tokenizer.py to tokenizer.cpython-310.pyc\n",
            "byte-compiling build/bdist.linux-x86_64/egg/tortoise/utils/diffusion.py to diffusion.cpython-310.pyc\n",
            "byte-compiling build/bdist.linux-x86_64/egg/tortoise/utils/typical_sampling.py to typical_sampling.cpython-310.pyc\n",
            "byte-compiling build/bdist.linux-x86_64/egg/tortoise/utils/wav2vec_alignment.py to wav2vec_alignment.cpython-310.pyc\n",
            "byte-compiling build/bdist.linux-x86_64/egg/tortoise/utils/audio.py to audio.cpython-310.pyc\n",
            "byte-compiling build/bdist.linux-x86_64/egg/tortoise/utils/__init__.py to __init__.cpython-310.pyc\n",
            "byte-compiling build/bdist.linux-x86_64/egg/tortoise/get_conditioning_latents.py to get_conditioning_latents.cpython-310.pyc\n",
            "byte-compiling build/bdist.linux-x86_64/egg/tortoise/do_tts.py to do_tts.cpython-310.pyc\n",
            "byte-compiling build/bdist.linux-x86_64/egg/tortoise/models/transformer.py to transformer.cpython-310.pyc\n",
            "byte-compiling build/bdist.linux-x86_64/egg/tortoise/models/arch_util.py to arch_util.cpython-310.pyc\n",
            "byte-compiling build/bdist.linux-x86_64/egg/tortoise/models/vocoder.py to vocoder.cpython-310.pyc\n",
            "byte-compiling build/bdist.linux-x86_64/egg/tortoise/models/xtransformers.py to xtransformers.cpython-310.pyc\n",
            "byte-compiling build/bdist.linux-x86_64/egg/tortoise/models/autoregressive.py to autoregressive.cpython-310.pyc\n",
            "byte-compiling build/bdist.linux-x86_64/egg/tortoise/models/classifier.py to classifier.cpython-310.pyc\n",
            "byte-compiling build/bdist.linux-x86_64/egg/tortoise/models/random_latent_generator.py to random_latent_generator.cpython-310.pyc\n",
            "byte-compiling build/bdist.linux-x86_64/egg/tortoise/models/diffusion_decoder.py to diffusion_decoder.cpython-310.pyc\n",
            "byte-compiling build/bdist.linux-x86_64/egg/tortoise/models/clvp.py to clvp.cpython-310.pyc\n",
            "byte-compiling build/bdist.linux-x86_64/egg/tortoise/models/cvvp.py to cvvp.cpython-310.pyc\n",
            "byte-compiling build/bdist.linux-x86_64/egg/tortoise/models/__init__.py to __init__.cpython-310.pyc\n",
            "byte-compiling build/bdist.linux-x86_64/egg/tortoise/__init__.py to __init__.cpython-310.pyc\n",
            "creating build/bdist.linux-x86_64/egg/EGG-INFO\n",
            "copying TorToiSe.egg-info/PKG-INFO -> build/bdist.linux-x86_64/egg/EGG-INFO\n",
            "copying TorToiSe.egg-info/SOURCES.txt -> build/bdist.linux-x86_64/egg/EGG-INFO\n",
            "copying TorToiSe.egg-info/dependency_links.txt -> build/bdist.linux-x86_64/egg/EGG-INFO\n",
            "copying TorToiSe.egg-info/requires.txt -> build/bdist.linux-x86_64/egg/EGG-INFO\n",
            "copying TorToiSe.egg-info/top_level.txt -> build/bdist.linux-x86_64/egg/EGG-INFO\n",
            "zip_safe flag not set; analyzing archive contents...\n",
            "creating dist\n",
            "creating 'dist/TorToiSe-2.3.0-py3.10.egg' and adding 'build/bdist.linux-x86_64/egg' to it\n",
            "removing 'build/bdist.linux-x86_64/egg' (and everything under it)\n",
            "Processing TorToiSe-2.3.0-py3.10.egg\n",
            "Copying TorToiSe-2.3.0-py3.10.egg to /usr/local/lib/python3.10/dist-packages\n",
            "Adding TorToiSe 2.3.0 to easy-install.pth file\n",
            "\n",
            "Installed /usr/local/lib/python3.10/dist-packages/TorToiSe-2.3.0-py3.10.egg\n",
            "Processing dependencies for TorToiSe==2.3.0\n",
            "Searching for progressbar\n",
            "Reading https://pypi.org/simple/progressbar/\n",
            "Downloading https://files.pythonhosted.org/packages/a3/a6/b8e451f6cff1c99b4747a2f7235aa904d2d49e8e1464e0b798272aa84358/progressbar-2.5.tar.gz#sha256=5d81cb529da2e223b53962afd6c8ca0f05c6670e40309a7219eacc36af9b6c63\n",
            "Best match: progressbar 2.5\n",
            "Processing progressbar-2.5.tar.gz\n",
            "Writing /tmp/easy_install-_ea8ny6n/progressbar-2.5/setup.cfg\n",
            "Running progressbar-2.5/setup.py -q bdist_egg --dist-dir /tmp/easy_install-_ea8ny6n/progressbar-2.5/egg-dist-tmp-zbvvbv2x\n",
            "/usr/local/lib/python3.10/dist-packages/setuptools/_distutils/cmd.py:66: SetuptoolsDeprecationWarning: setup.py install is deprecated.\n",
            "!!\n",
            "\n",
            "        ********************************************************************************\n",
            "        Please avoid running ``setup.py`` directly.\n",
            "        Instead, use pypa/build, pypa/installer or other\n",
            "        standards-based tools.\n",
            "\n",
            "        See https://blog.ganssle.io/articles/2021/10/setup-py-deprecated.html for details.\n",
            "        ********************************************************************************\n",
            "\n",
            "!!\n",
            "  self.initialize_options()\n",
            "zip_safe flag not set; analyzing archive contents...\n",
            "Adding progressbar 2.5 to easy-install.pth file\n",
            "detected new path './TorToiSe-2.3.0-py3.10.egg'\n",
            "\n",
            "Installed /usr/local/lib/python3.10/dist-packages/progressbar-2.5-py3.10.egg\n",
            "Searching for tokenizers==0.12.1\n",
            "Best match: tokenizers 0.12.1\n",
            "Adding tokenizers 0.12.1 to easy-install.pth file\n",
            "detected new path './progressbar-2.5-py3.10.egg'\n",
            "\n",
            "Using /usr/local/lib/python3.10/dist-packages\n",
            "Searching for transformers==4.19.0\n",
            "Best match: transformers 4.19.0\n",
            "Adding transformers 4.19.0 to easy-install.pth file\n",
            "Installing transformers-cli script to /usr/local/bin\n",
            "\n",
            "Using /usr/local/lib/python3.10/dist-packages\n",
            "Searching for librosa==0.10.2.post1\n",
            "Best match: librosa 0.10.2.post1\n",
            "Adding librosa 0.10.2.post1 to easy-install.pth file\n",
            "\n",
            "Using /usr/local/lib/python3.10/dist-packages\n",
            "Searching for scipy==1.14.1\n",
            "Best match: scipy 1.14.1\n",
            "Adding scipy 1.14.1 to easy-install.pth file\n",
            "\n",
            "Using /usr/local/lib/python3.10/dist-packages\n",
            "Searching for Unidecode==1.3.5\n",
            "Best match: Unidecode 1.3.5\n",
            "Adding Unidecode 1.3.5 to easy-install.pth file\n",
            "Installing unidecode script to /usr/local/bin\n",
            "\n",
            "Using /usr/local/lib/python3.10/dist-packages\n",
            "Searching for einops==0.5.0\n",
            "Best match: einops 0.5.0\n",
            "Adding einops 0.5.0 to easy-install.pth file\n",
            "\n",
            "Using /usr/local/lib/python3.10/dist-packages\n",
            "Searching for inflect==7.4.0\n",
            "Best match: inflect 7.4.0\n",
            "Adding inflect 7.4.0 to easy-install.pth file\n",
            "\n",
            "Using /usr/local/lib/python3.10/dist-packages\n",
            "Searching for rotary-embedding-torch==0.1.5\n",
            "Best match: rotary-embedding-torch 0.1.5\n",
            "Adding rotary-embedding-torch 0.1.5 to easy-install.pth file\n",
            "\n",
            "Using /usr/local/lib/python3.10/dist-packages\n",
            "Searching for tqdm==4.66.5\n",
            "Best match: tqdm 4.66.5\n",
            "Adding tqdm 4.66.5 to easy-install.pth file\n",
            "Installing tqdm script to /usr/local/bin\n",
            "\n",
            "Using /usr/local/lib/python3.10/dist-packages\n",
            "Searching for requests==2.32.3\n",
            "Best match: requests 2.32.3\n",
            "Adding requests 2.32.3 to easy-install.pth file\n",
            "\n",
            "Using /usr/local/lib/python3.10/dist-packages\n",
            "Searching for regex==2024.9.11\n",
            "Best match: regex 2024.9.11\n",
            "Adding regex 2024.9.11 to easy-install.pth file\n",
            "\n",
            "Using /usr/local/lib/python3.10/dist-packages\n",
            "Searching for PyYAML==6.0.2\n",
            "Best match: PyYAML 6.0.2\n",
            "Adding PyYAML 6.0.2 to easy-install.pth file\n",
            "\n",
            "Using /usr/local/lib/python3.10/dist-packages\n",
            "Searching for packaging==24.1\n",
            "Best match: packaging 24.1\n",
            "Adding packaging 24.1 to easy-install.pth file\n",
            "\n",
            "Using /usr/local/lib/python3.10/dist-packages/setuptools/_vendor\n",
            "Searching for numpy==1.26.4\n",
            "Best match: numpy 1.26.4\n",
            "Adding numpy 1.26.4 to easy-install.pth file\n",
            "detected new path './setuptools/_vendor'\n",
            "Installing f2py script to /usr/local/bin\n",
            "\n",
            "Using /usr/local/lib/python3.10/dist-packages\n",
            "Searching for huggingface-hub==0.24.7\n",
            "Best match: huggingface-hub 0.24.7\n",
            "Adding huggingface-hub 0.24.7 to easy-install.pth file\n",
            "Installing huggingface-cli script to /usr/local/bin\n",
            "\n",
            "Using /usr/local/lib/python3.10/dist-packages\n",
            "Searching for filelock==3.16.1\n",
            "Best match: filelock 3.16.1\n",
            "Adding filelock 3.16.1 to easy-install.pth file\n",
            "\n",
            "Using /usr/local/lib/python3.10/dist-packages\n",
            "Searching for msgpack==1.1.0\n",
            "Best match: msgpack 1.1.0\n",
            "Adding msgpack 1.1.0 to easy-install.pth file\n",
            "\n",
            "Using /usr/local/lib/python3.10/dist-packages\n",
            "Searching for lazy-loader==0.4\n",
            "Best match: lazy-loader 0.4\n",
            "Adding lazy-loader 0.4 to easy-install.pth file\n",
            "\n",
            "Using /usr/local/lib/python3.10/dist-packages\n",
            "Searching for typing-extensions==4.12.2\n",
            "Best match: typing-extensions 4.12.2\n",
            "typing-extensions 4.12.2 is already the active version in easy-install.pth\n",
            "\n",
            "Using /usr/local/lib/python3.10/dist-packages/setuptools/_vendor\n",
            "Searching for soxr==0.5.0.post1\n",
            "Best match: soxr 0.5.0.post1\n",
            "Adding soxr 0.5.0.post1 to easy-install.pth file\n",
            "\n",
            "Using /usr/local/lib/python3.10/dist-packages\n",
            "Searching for pooch==1.8.2\n",
            "Best match: pooch 1.8.2\n",
            "Adding pooch 1.8.2 to easy-install.pth file\n",
            "\n",
            "Using /usr/local/lib/python3.10/dist-packages\n",
            "Searching for soundfile==0.12.1\n",
            "Best match: soundfile 0.12.1\n",
            "Adding soundfile 0.12.1 to easy-install.pth file\n",
            "\n",
            "Using /usr/local/lib/python3.10/dist-packages\n",
            "Searching for numba==0.60.0\n",
            "Best match: numba 0.60.0\n",
            "Adding numba 0.60.0 to easy-install.pth file\n",
            "\n",
            "Using /usr/local/lib/python3.10/dist-packages\n",
            "Searching for decorator==4.4.2\n",
            "Best match: decorator 4.4.2\n",
            "Adding decorator 4.4.2 to easy-install.pth file\n",
            "\n",
            "Using /usr/local/lib/python3.10/dist-packages\n",
            "Searching for joblib==1.4.2\n",
            "Best match: joblib 1.4.2\n",
            "Adding joblib 1.4.2 to easy-install.pth file\n",
            "\n",
            "Using /usr/local/lib/python3.10/dist-packages\n",
            "Searching for scikit-learn==1.5.2\n",
            "Best match: scikit-learn 1.5.2\n",
            "Adding scikit-learn 1.5.2 to easy-install.pth file\n",
            "\n",
            "Using /usr/local/lib/python3.10/dist-packages\n",
            "Searching for audioread==3.0.1\n",
            "Best match: audioread 3.0.1\n",
            "Adding audioread 3.0.1 to easy-install.pth file\n",
            "\n",
            "Using /usr/local/lib/python3.10/dist-packages\n",
            "Searching for typeguard==4.3.0\n",
            "Best match: typeguard 4.3.0\n",
            "typeguard 4.3.0 is already the active version in easy-install.pth\n",
            "\n",
            "Using /usr/local/lib/python3.10/dist-packages/setuptools/_vendor\n",
            "Searching for more-itertools==10.5.0\n",
            "Best match: more-itertools 10.5.0\n",
            "Adding more-itertools 10.5.0 to easy-install.pth file\n",
            "\n",
            "Using /usr/local/lib/python3.10/dist-packages\n",
            "Searching for torch==2.5.0+cu121\n",
            "Best match: torch 2.5.0+cu121\n",
            "Adding torch 2.5.0+cu121 to easy-install.pth file\n",
            "Installing convert-caffe2-to-onnx script to /usr/local/bin\n",
            "Installing convert-onnx-to-caffe2 script to /usr/local/bin\n",
            "Installing torchfrtrace script to /usr/local/bin\n",
            "Installing torchrun script to /usr/local/bin\n",
            "\n",
            "Using /usr/local/lib/python3.10/dist-packages\n",
            "Searching for certifi==2024.8.30\n",
            "Best match: certifi 2024.8.30\n",
            "Adding certifi 2024.8.30 to easy-install.pth file\n",
            "\n",
            "Using /usr/local/lib/python3.10/dist-packages\n",
            "Searching for urllib3==2.2.3\n",
            "Best match: urllib3 2.2.3\n",
            "Adding urllib3 2.2.3 to easy-install.pth file\n",
            "\n",
            "Using /usr/local/lib/python3.10/dist-packages\n",
            "Searching for idna==3.10\n",
            "Best match: idna 3.10\n",
            "Adding idna 3.10 to easy-install.pth file\n",
            "\n",
            "Using /usr/local/lib/python3.10/dist-packages\n",
            "Searching for charset-normalizer==3.4.0\n",
            "Best match: charset-normalizer 3.4.0\n",
            "Adding charset-normalizer 3.4.0 to easy-install.pth file\n",
            "Installing normalizer script to /usr/local/bin\n",
            "\n",
            "Using /usr/local/lib/python3.10/dist-packages\n",
            "Searching for fsspec==2024.6.1\n",
            "Best match: fsspec 2024.6.1\n",
            "Adding fsspec 2024.6.1 to easy-install.pth file\n",
            "\n",
            "Using /usr/local/lib/python3.10/dist-packages\n",
            "Searching for platformdirs==4.3.6\n",
            "Best match: platformdirs 4.3.6\n",
            "Adding platformdirs 4.3.6 to easy-install.pth file\n",
            "\n",
            "Using /usr/local/lib/python3.10/dist-packages\n",
            "Searching for cffi==1.17.1\n",
            "Best match: cffi 1.17.1\n",
            "Adding cffi 1.17.1 to easy-install.pth file\n",
            "\n",
            "Using /usr/local/lib/python3.10/dist-packages\n",
            "Searching for llvmlite==0.43.0\n",
            "Best match: llvmlite 0.43.0\n",
            "Adding llvmlite 0.43.0 to easy-install.pth file\n",
            "\n",
            "Using /usr/local/lib/python3.10/dist-packages\n",
            "Searching for threadpoolctl==3.5.0\n",
            "Best match: threadpoolctl 3.5.0\n",
            "Adding threadpoolctl 3.5.0 to easy-install.pth file\n",
            "\n",
            "Using /usr/local/lib/python3.10/dist-packages\n",
            "Searching for sympy==1.13.1\n",
            "Best match: sympy 1.13.1\n",
            "Adding sympy 1.13.1 to easy-install.pth file\n",
            "Installing isympy script to /usr/local/bin\n",
            "\n",
            "Using /usr/local/lib/python3.10/dist-packages\n",
            "Searching for jinja2==3.1.4\n",
            "Best match: jinja2 3.1.4\n",
            "Adding jinja2 3.1.4 to easy-install.pth file\n",
            "\n",
            "Using /usr/local/lib/python3.10/dist-packages\n",
            "Searching for networkx==3.4.2\n",
            "Best match: networkx 3.4.2\n",
            "Adding networkx 3.4.2 to easy-install.pth file\n",
            "\n",
            "Using /usr/local/lib/python3.10/dist-packages\n",
            "Searching for pycparser==2.22\n",
            "Best match: pycparser 2.22\n",
            "Adding pycparser 2.22 to easy-install.pth file\n",
            "\n",
            "Using /usr/local/lib/python3.10/dist-packages\n",
            "Searching for mpmath==1.3.0\n",
            "Best match: mpmath 1.3.0\n",
            "Adding mpmath 1.3.0 to easy-install.pth file\n",
            "\n",
            "Using /usr/local/lib/python3.10/dist-packages\n",
            "Searching for MarkupSafe==3.0.2\n",
            "Best match: MarkupSafe 3.0.2\n",
            "Adding MarkupSafe 3.0.2 to easy-install.pth file\n",
            "\n",
            "Using /usr/local/lib/python3.10/dist-packages\n",
            "Finished processing dependencies for TorToiSe==2.3.0\n"
          ]
        }
      ],
      "source": [
        "!pip3 install -U scipy\n",
        "\n",
        "!git clone https://github.com/jnordberg/tortoise-tts.git\n",
        "%cd tortoise-tts\n",
        "!pip3 install -r requirements.txt\n",
        "!pip3 install transformers==4.19.0 einops==0.5.0 rotary_embedding_torch==0.1.5 unidecode==1.3.5\n",
        "!python3 setup.py install"
      ]
    },
    {
      "cell_type": "code",
      "execution_count": 5,
      "metadata": {
        "colab": {
          "base_uri": "https://localhost:8080/",
          "height": 0,
          "referenced_widgets": [
            "a263308f98d84fdba93c6e8487a9f594",
            "5abaedb62d534b51be53910ee98edda3",
            "15367ebeb6a04a08bc89105f2d91f97b",
            "12e3d58e0d4446dfa10e181879f100a2",
            "f0c0c8509e424096b69c883d65b60498",
            "3f7172dd080f4cb690872f1cbbcac564",
            "85cf5568270547a8a0ad78372f084d0d",
            "0ea53b91b5a5486e928f7fd06c3bde1a",
            "106723a28f6349dba89f2a17beedaacc",
            "55fbb071b8a74f60a6d7e64f4e28c962",
            "614f759e16f8497d9ed0696fb3446338",
            "bdaaee3deb8e4f2bbed14629f01d8598",
            "db4f69d3790a4b3cbd803b0ea95116cb",
            "c758f2f760ff44fbb669d8c8028a59f9",
            "5be13ed91a1b40c2a7cbab209108e027",
            "aa94e3e1476e4bdea27662143b1a5781",
            "bed6b89c65094e749b58cd619bb8c20b",
            "237e471064bf46a3b24032945091efb9",
            "c76b5dba631744c0a020fa440ca14324",
            "484ad0c31a6841ffaaa80999235b1966",
            "b0fd25b5361140ed9f410f51cc8b9a53",
            "34c56d9612fe46e0aef233b711a4755f",
            "86b4ab15c17c49dda009dbab7797b890",
            "32d4de328c854dac857a1e66ae276cda",
            "5989a7d12bb74a2fbee87fd81d7d5484",
            "08e694417633410da158508bdb492c40",
            "006407f629d940c29f7f4982ea4f06a0",
            "4869986ee9fd49b4a71812ab0467f31a",
            "84e6f7e43d3e44dd9bf860917a13fd0c",
            "16086541b2ef44be8cda1ff05d3db60b",
            "1d50a004cf074156b49c04755a22cb3d",
            "9bd83feaa7f1466aa3ad91609d22980c",
            "dc80f634193e4239adc7ddb43b6e9a3d",
            "857191464822494cb277626382c19704",
            "d668fbdf1c58415faf2a3813e2cfd113",
            "799ef94a273f4d4187adee6c5c5ca782",
            "cb7f3522828a47cca4275997bb5b1162",
            "369c0747ebda482aa5fdbbebd904486f",
            "dadf3213933043a182f23154ea6ad98d",
            "86ed6518bad340a7aa3ab48085df8edd",
            "23a27979c2344c92a16e00532642ca2e",
            "0a15b4f5aff14fac8d535d1b0f96cb85",
            "260971996e064ae997dfd70fa1ab5f1e",
            "9346db7337cd44f5b54c0c5a9b498019",
            "a631bb9216dc4673a8ac76a4483f90dd",
            "cf25f2196b35466382bcd11d9e19d864",
            "fcbbe93dffc941e39df7ed6c25a119d8",
            "311cb54eb96c456b8b3a304d6001eec4",
            "8ad52fdd612642399bbca1ade7fd8a12",
            "42a5cf878c6948e8a2430d4684831701",
            "fb237517e4e549458bcc933573de6308",
            "199ab617826f4ce58760ea88a023f5a4",
            "baae4d92aa864ec180d78ef3110b0888",
            "908a1b53ef0d4b25af7c5a8aa486399f",
            "73153fd325a74ea8a367e52e9b6ea5d2",
            "e483e5323f984affa326536d266173a4",
            "787a27b2cc5b40f8b963005a64c6abad",
            "09c448a77fd14597930adc7cdb3f1d33",
            "5ec63c849bcc4ddeba867f3eecfe0896",
            "5fdb053f7e5b4f519e6366811709f580",
            "30e1522dc7f54203a1ad1def4e3e66e0",
            "2aa3fd294b5f469588928aa6a9d62083",
            "3796e0e0723c4644b35103c79daf7018",
            "d8e1a62bbc244a62bf11e79aa171cb6f",
            "c7fbe0340455419ca6b33f814b753560",
            "22b693e6bcbf4132ab9b79b1e1e83883"
          ]
        },
        "collapsed": true,
        "id": "szDmMkMRSUtO",
        "outputId": "ba56eb5d-8a18-4d4e-b863-d2891c08cff7"
      },
      "outputs": [
        {
          "output_type": "display_data",
          "data": {
            "text/plain": [
              "Downloading:   0%|          | 0.00/2.06k [00:00<?, ?B/s]"
            ],
            "application/vnd.jupyter.widget-view+json": {
              "version_major": 2,
              "version_minor": 0,
              "model_id": "a263308f98d84fdba93c6e8487a9f594"
            }
          },
          "metadata": {}
        },
        {
          "output_type": "display_data",
          "data": {
            "text/plain": [
              "Downloading:   0%|          | 0.00/1.18G [00:00<?, ?B/s]"
            ],
            "application/vnd.jupyter.widget-view+json": {
              "version_major": 2,
              "version_minor": 0,
              "model_id": "bdaaee3deb8e4f2bbed14629f01d8598"
            }
          },
          "metadata": {}
        },
        {
          "output_type": "stream",
          "name": "stderr",
          "text": [
            "/usr/local/lib/python3.10/dist-packages/transformers/modeling_utils.py:392: FutureWarning: You are using `torch.load` with `weights_only=False` (the current default value), which uses the default pickle module implicitly. It is possible to construct malicious pickle data which will execute arbitrary code during unpickling (See https://github.com/pytorch/pytorch/blob/main/SECURITY.md#untrusted-models for more details). In a future release, the default value for `weights_only` will be flipped to `True`. This limits the functions that could be executed during unpickling. Arbitrary objects will no longer be allowed to be loaded via this mode unless they are explicitly allowlisted by the user via `torch.serialization.add_safe_globals`. We recommend you start setting `weights_only=True` for any use case where you don't have full control of the loaded file. Please open an issue on GitHub for any issues related to this experimental feature.\n",
            "  return torch.load(checkpoint_file, map_location=\"cpu\")\n",
            "/usr/local/lib/python3.10/dist-packages/torch/nn/utils/weight_norm.py:143: FutureWarning: `torch.nn.utils.weight_norm` is deprecated in favor of `torch.nn.utils.parametrizations.weight_norm`.\n",
            "  WeightNorm.apply(module, name, dim)\n"
          ]
        },
        {
          "output_type": "display_data",
          "data": {
            "text/plain": [
              "Downloading:   0%|          | 0.00/159 [00:00<?, ?B/s]"
            ],
            "application/vnd.jupyter.widget-view+json": {
              "version_major": 2,
              "version_minor": 0,
              "model_id": "86b4ab15c17c49dda009dbab7797b890"
            }
          },
          "metadata": {}
        },
        {
          "output_type": "display_data",
          "data": {
            "text/plain": [
              "Downloading:   0%|          | 0.00/1.57k [00:00<?, ?B/s]"
            ],
            "application/vnd.jupyter.widget-view+json": {
              "version_major": 2,
              "version_minor": 0,
              "model_id": "857191464822494cb277626382c19704"
            }
          },
          "metadata": {}
        },
        {
          "output_type": "display_data",
          "data": {
            "text/plain": [
              "Downloading:   0%|          | 0.00/181 [00:00<?, ?B/s]"
            ],
            "application/vnd.jupyter.widget-view+json": {
              "version_major": 2,
              "version_minor": 0,
              "model_id": "a631bb9216dc4673a8ac76a4483f90dd"
            }
          },
          "metadata": {}
        },
        {
          "output_type": "display_data",
          "data": {
            "text/plain": [
              "Downloading:   0%|          | 0.00/85.0 [00:00<?, ?B/s]"
            ],
            "application/vnd.jupyter.widget-view+json": {
              "version_major": 2,
              "version_minor": 0,
              "model_id": "e483e5323f984affa326536d266173a4"
            }
          },
          "metadata": {}
        },
        {
          "output_type": "stream",
          "name": "stdout",
          "text": [
            "Downloading autoregressive.pth from https://huggingface.co/jbetker/tortoise-tts-v2/resolve/main/.models/autoregressive.pth...\n"
          ]
        },
        {
          "output_type": "stream",
          "name": "stderr",
          "text": [
            "\u001b[38;2;0;255;0m100%\u001b[39m \u001b[38;2;0;255;0m(1716988501 of 1716988501)\u001b[39m |########| Elapsed Time: 0:00:11 Time:  0:00:11\n"
          ]
        },
        {
          "output_type": "stream",
          "name": "stdout",
          "text": [
            "Done.\n",
            "Downloading classifier.pth from https://huggingface.co/jbetker/tortoise-tts-v2/resolve/main/.models/classifier.pth...\n"
          ]
        },
        {
          "output_type": "stream",
          "name": "stderr",
          "text": [
            "\u001b[38;2;0;255;0m100%\u001b[39m \u001b[38;2;0;255;0m(60938957 of 60938957)\u001b[39m |############| Elapsed Time: 0:00:00 Time:  0:00:00\n"
          ]
        },
        {
          "output_type": "stream",
          "name": "stdout",
          "text": [
            "Done.\n",
            "Downloading clvp2.pth from https://huggingface.co/jbetker/tortoise-tts-v2/resolve/main/.models/clvp2.pth...\n"
          ]
        },
        {
          "output_type": "stream",
          "name": "stderr",
          "text": [
            "\u001b[38;2;0;255;0m100%\u001b[39m \u001b[38;2;0;255;0m(975620731 of 975620731)\u001b[39m |##########| Elapsed Time: 0:00:09 Time:  0:00:09\n"
          ]
        },
        {
          "output_type": "stream",
          "name": "stdout",
          "text": [
            "Done.\n",
            "Downloading cvvp.pth from https://huggingface.co/jbetker/tortoise-tts-v2/resolve/main/.models/cvvp.pth...\n"
          ]
        },
        {
          "output_type": "stream",
          "name": "stderr",
          "text": [
            "\u001b[38;2;0;255;0m100%\u001b[39m \u001b[38;2;0;255;0m(151223901 of 151223901)\u001b[39m |##########| Elapsed Time: 0:00:00 Time:  0:00:00\n"
          ]
        },
        {
          "output_type": "stream",
          "name": "stdout",
          "text": [
            "Done.\n",
            "Downloading diffusion_decoder.pth from https://huggingface.co/jbetker/tortoise-tts-v2/resolve/main/.models/diffusion_decoder.pth...\n"
          ]
        },
        {
          "output_type": "stream",
          "name": "stderr",
          "text": [
            "\u001b[38;2;0;255;0m100%\u001b[39m \u001b[38;2;0;255;0m(1169472627 of 1169472627)\u001b[39m |########| Elapsed Time: 0:00:07 Time:  0:00:07\n"
          ]
        },
        {
          "output_type": "stream",
          "name": "stdout",
          "text": [
            "Done.\n",
            "Downloading vocoder.pth from https://huggingface.co/jbetker/tortoise-tts-v2/resolve/main/.models/vocoder.pth...\n"
          ]
        },
        {
          "output_type": "stream",
          "name": "stderr",
          "text": [
            "\u001b[38;2;0;255;0m100%\u001b[39m \u001b[38;2;0;255;0m(391384715 of 391384715)\u001b[39m |##########| Elapsed Time: 0:00:04 Time:  0:00:04\n"
          ]
        },
        {
          "output_type": "stream",
          "name": "stdout",
          "text": [
            "Done.\n",
            "Downloading rlg_auto.pth from https://huggingface.co/jbetker/tortoise-tts-v2/resolve/main/.models/rlg_auto.pth...\n"
          ]
        },
        {
          "output_type": "stream",
          "name": "stderr",
          "text": [
            "\u001b[38;2;0;255;0m100%\u001b[39m \u001b[38;2;0;255;0m(25193729 of 25193729)\u001b[39m |############| Elapsed Time: 0:00:00 Time:  0:00:00\n"
          ]
        },
        {
          "output_type": "stream",
          "name": "stdout",
          "text": [
            "Done.\n",
            "Downloading rlg_diffuser.pth from https://huggingface.co/jbetker/tortoise-tts-v2/resolve/main/.models/rlg_diffuser.pth...\n"
          ]
        },
        {
          "output_type": "stream",
          "name": "stderr",
          "text": [
            "\u001b[38;2;0;255;0m100%\u001b[39m \u001b[38;2;0;255;0m(100715777 of 100715777)\u001b[39m |##########| Elapsed Time: 0:00:00 Time:  0:00:00\n"
          ]
        },
        {
          "output_type": "stream",
          "name": "stdout",
          "text": [
            "Done.\n"
          ]
        },
        {
          "output_type": "stream",
          "name": "stderr",
          "text": [
            "/content/VoiceCloning/tortoise-tts/tortoise/api.py:196: FutureWarning: You are using `torch.load` with `weights_only=False` (the current default value), which uses the default pickle module implicitly. It is possible to construct malicious pickle data which will execute arbitrary code during unpickling (See https://github.com/pytorch/pytorch/blob/main/SECURITY.md#untrusted-models for more details). In a future release, the default value for `weights_only` will be flipped to `True`. This limits the functions that could be executed during unpickling. Arbitrary objects will no longer be allowed to be loaded via this mode unless they are explicitly allowlisted by the user via `torch.serialization.add_safe_globals`. We recommend you start setting `weights_only=True` for any use case where you don't have full control of the loaded file. Please open an issue on GitHub for any issues related to this experimental feature.\n",
            "  self.autoregressive.load_state_dict(torch.load(f'{models_dir}/autoregressive.pth'))\n",
            "/content/VoiceCloning/tortoise-tts/tortoise/api.py:201: FutureWarning: You are using `torch.load` with `weights_only=False` (the current default value), which uses the default pickle module implicitly. It is possible to construct malicious pickle data which will execute arbitrary code during unpickling (See https://github.com/pytorch/pytorch/blob/main/SECURITY.md#untrusted-models for more details). In a future release, the default value for `weights_only` will be flipped to `True`. This limits the functions that could be executed during unpickling. Arbitrary objects will no longer be allowed to be loaded via this mode unless they are explicitly allowlisted by the user via `torch.serialization.add_safe_globals`. We recommend you start setting `weights_only=True` for any use case where you don't have full control of the loaded file. Please open an issue on GitHub for any issues related to this experimental feature.\n",
            "  self.diffusion.load_state_dict(torch.load(f'{models_dir}/diffusion_decoder.pth'))\n",
            "/content/VoiceCloning/tortoise-tts/tortoise/api.py:207: FutureWarning: You are using `torch.load` with `weights_only=False` (the current default value), which uses the default pickle module implicitly. It is possible to construct malicious pickle data which will execute arbitrary code during unpickling (See https://github.com/pytorch/pytorch/blob/main/SECURITY.md#untrusted-models for more details). In a future release, the default value for `weights_only` will be flipped to `True`. This limits the functions that could be executed during unpickling. Arbitrary objects will no longer be allowed to be loaded via this mode unless they are explicitly allowlisted by the user via `torch.serialization.add_safe_globals`. We recommend you start setting `weights_only=True` for any use case where you don't have full control of the loaded file. Please open an issue on GitHub for any issues related to this experimental feature.\n",
            "  self.clvp.load_state_dict(torch.load(f'{models_dir}/clvp2.pth'))\n",
            "/content/VoiceCloning/tortoise-tts/tortoise/api.py:211: FutureWarning: You are using `torch.load` with `weights_only=False` (the current default value), which uses the default pickle module implicitly. It is possible to construct malicious pickle data which will execute arbitrary code during unpickling (See https://github.com/pytorch/pytorch/blob/main/SECURITY.md#untrusted-models for more details). In a future release, the default value for `weights_only` will be flipped to `True`. This limits the functions that could be executed during unpickling. Arbitrary objects will no longer be allowed to be loaded via this mode unless they are explicitly allowlisted by the user via `torch.serialization.add_safe_globals`. We recommend you start setting `weights_only=True` for any use case where you don't have full control of the loaded file. Please open an issue on GitHub for any issues related to this experimental feature.\n",
            "  self.cvvp.load_state_dict(torch.load(f'{models_dir}/cvvp.pth'))\n",
            "/content/VoiceCloning/tortoise-tts/tortoise/api.py:214: FutureWarning: You are using `torch.load` with `weights_only=False` (the current default value), which uses the default pickle module implicitly. It is possible to construct malicious pickle data which will execute arbitrary code during unpickling (See https://github.com/pytorch/pytorch/blob/main/SECURITY.md#untrusted-models for more details). In a future release, the default value for `weights_only` will be flipped to `True`. This limits the functions that could be executed during unpickling. Arbitrary objects will no longer be allowed to be loaded via this mode unless they are explicitly allowlisted by the user via `torch.serialization.add_safe_globals`. We recommend you start setting `weights_only=True` for any use case where you don't have full control of the loaded file. Please open an issue on GitHub for any issues related to this experimental feature.\n",
            "  self.vocoder.load_state_dict(torch.load(f'{models_dir}/vocoder.pth')['model_g'])\n"
          ]
        }
      ],
      "source": [
        "import torch; import torchaudio\n",
        "import torch.nn as nn; import os\n",
        "import torch.nn.functional as F\n",
        "\n",
        "\n",
        "import IPython\n",
        "from IPython.display import Audio, display, HTML\n",
        "\n",
        "from tortoise.api import TextToSpeech\n",
        "from tortoise.utils.audio import load_audio, load_voice, load_voices\n",
        "\n",
        "# This will download all the models used by Tortoise from the HuggingFace hub.\n",
        "tts = TextToSpeech()"
      ]
    },
    {
      "cell_type": "code",
      "execution_count": 6,
      "metadata": {
        "collapsed": true,
        "id": "X1UEEO_0Smtk"
      },
      "outputs": [],
      "source": [
        "preset='fast'\n",
        "\n",
        "# Options: {\"ultra_fast\", \"fast\" (default), \"standard\", \"high_quality\"}.\n",
        "\n",
        "\n",
        "CUSTOM_VOICE_NAME = \"ABDULLAH\"\n",
        "moveVoices(VOICES, CUSTOM_VOICE_NAME = CUSTOM_VOICE_NAME)\n",
        "\n",
        "voice_samples, conditioning_latents = load_voice(CUSTOM_VOICE_NAME)\n",
        "def getAudio(text):\n",
        "  gen = tts.tts_with_preset(text, voice_samples=voice_samples, conditioning_latents=conditioning_latents,\n",
        "                            preset=preset)\n",
        "  torchaudio.save(f'generated-{CUSTOM_VOICE_NAME}.wav', gen.squeeze(0).cpu(), 24000)"
      ]
    },
    {
      "cell_type": "markdown",
      "metadata": {
        "id": "pWD5QdxmGWYI"
      },
      "source": [
        "# **RUN**"
      ]
    },
    {
      "cell_type": "code",
      "execution_count": 7,
      "metadata": {
        "id": "6py8aqr0GEso"
      },
      "outputs": [],
      "source": [
        "'''\n",
        "'''"
      ]
    },
    {
      "cell_type": "code",
      "source": [
        "getAudio(S1)\n",
        "display(Audio(f'generated-{CUSTOM_VOICE_NAME}.wav'))"
      ],
      "metadata": {
        "id": "FlT342eMhMZ7"
      },
      "execution_count": null,
      "outputs": []
    },
    {
      "cell_type": "code",
      "source": [
        "getAudio(S2)\n",
        "display(Audio(f'generated-{CUSTOM_VOICE_NAME}.wav'))"
      ],
      "metadata": {
        "id": "R-ivoEH3gbq6"
      },
      "execution_count": null,
      "outputs": []
    },
    {
      "cell_type": "code",
      "source": [
        "getAudio(S3)\n",
        "display(Audio(f'generated-{CUSTOM_VOICE_NAME}.wav'))"
      ],
      "metadata": {
        "id": "lKPCKxMOgbty"
      },
      "execution_count": null,
      "outputs": []
    },
    {
      "cell_type": "code",
      "source": [
        "getAudio(S4)\n",
        "display(Audio(f'generated-{CUSTOM_VOICE_NAME}.wav'))"
      ],
      "metadata": {
        "id": "uppcKWQYgbwa"
      },
      "execution_count": null,
      "outputs": []
    },
    {
      "cell_type": "code",
      "source": [
        "getAudio(S5)\n",
        "display(Audio(f'generated-{CUSTOM_VOICE_NAME}.wav'))"
      ],
      "metadata": {
        "id": "Ol_Ba7rJgbzK"
      },
      "execution_count": null,
      "outputs": []
    },
    {
      "cell_type": "code",
      "source": [
        "getAudio(S6)\n",
        "display(Audio(f'generated-{CUSTOM_VOICE_NAME}.wav'))"
      ],
      "metadata": {
        "id": "BRoi9ONxgsAJ"
      },
      "execution_count": null,
      "outputs": []
    },
    {
      "cell_type": "code",
      "source": [
        "getAudio(S7)\n",
        "display(Audio(f'generated-{CUSTOM_VOICE_NAME}.wav'))"
      ],
      "metadata": {
        "id": "waLSC8hUguqk"
      },
      "execution_count": null,
      "outputs": []
    },
    {
      "cell_type": "code",
      "source": [
        "getAudio(S8)\n",
        "display(Audio(f'generated-{CUSTOM_VOICE_NAME}.wav'))"
      ],
      "metadata": {
        "id": "yybh526XgutB"
      },
      "execution_count": null,
      "outputs": []
    },
    {
      "cell_type": "code",
      "source": [
        "getAudio(S9)\n",
        "display(Audio(f'generated-{CUSTOM_VOICE_NAME}.wav'))"
      ],
      "metadata": {
        "id": "vypK4zm9gxdC"
      },
      "execution_count": null,
      "outputs": []
    },
    {
      "cell_type": "code",
      "source": [
        "getAudio(S10)\n",
        "display(Audio(f'generated-{CUSTOM_VOICE_NAME}.wav'))"
      ],
      "metadata": {
        "id": "XXX-b1zigxfj"
      },
      "execution_count": null,
      "outputs": []
    },
    {
      "cell_type": "code",
      "source": [
        "getAudio(S11)\n",
        "display(Audio(f'generated-{CUSTOM_VOICE_NAME}.wav'))"
      ],
      "metadata": {
        "id": "M8upuE8bkkcw"
      },
      "execution_count": null,
      "outputs": []
    },
    {
      "cell_type": "code",
      "source": [
        "getAudio(S12)\n",
        "display(Audio(f'generated-{CUSTOM_VOICE_NAME}.wav'))"
      ],
      "metadata": {
        "id": "SV8bPhLZkks5"
      },
      "execution_count": null,
      "outputs": []
    },
    {
      "cell_type": "code",
      "source": [
        "getAudio(S13)\n",
        "display(Audio(f'generated-{CUSTOM_VOICE_NAME}.wav'))"
      ],
      "metadata": {
        "id": "RJ-dCOxkkr8M"
      },
      "execution_count": null,
      "outputs": []
    },
    {
      "cell_type": "code",
      "source": [
        "getAudio(S14)\n",
        "display(Audio(f'generated-{CUSTOM_VOICE_NAME}.wav'))"
      ],
      "metadata": {
        "id": "E4A_bHP7kvzk"
      },
      "execution_count": null,
      "outputs": []
    },
    {
      "cell_type": "code",
      "source": [
        "getAudio(S15)\n",
        "display(Audio(f'generated-{CUSTOM_VOICE_NAME}.wav'))"
      ],
      "metadata": {
        "id": "a3zWciJYksE7"
      },
      "execution_count": null,
      "outputs": []
    },
    {
      "cell_type": "code",
      "source": [
        "getAudio(S16)\n",
        "display(Audio(f'generated-{CUSTOM_VOICE_NAME}.wav'))"
      ],
      "metadata": {
        "id": "M-K1ijNtkwTV"
      },
      "execution_count": null,
      "outputs": []
    },
    {
      "cell_type": "code",
      "source": [
        "getAudio(S17)\n",
        "display(Audio(f'generated-{CUSTOM_VOICE_NAME}.wav'))"
      ],
      "metadata": {
        "id": "BlsP7boLksci"
      },
      "execution_count": null,
      "outputs": []
    },
    {
      "cell_type": "code",
      "source": [
        "getAudio(S18)\n",
        "display(Audio(f'generated-{CUSTOM_VOICE_NAME}.wav'))"
      ],
      "metadata": {
        "id": "qJKIoRnmkxU2"
      },
      "execution_count": null,
      "outputs": []
    },
    {
      "cell_type": "code",
      "source": [
        "getAudio(S19)\n",
        "display(Audio(f'generated-{CUSTOM_VOICE_NAME}.wav'))"
      ],
      "metadata": {
        "id": "gkG950Iekxx1"
      },
      "execution_count": null,
      "outputs": []
    },
    {
      "cell_type": "code",
      "source": [
        "getAudio(S20)\n",
        "display(Audio(f'generated-{CUSTOM_VOICE_NAME}.wav'))"
      ],
      "metadata": {
        "id": "DRQ02Prskzqu"
      },
      "execution_count": null,
      "outputs": []
    },
    {
      "cell_type": "code",
      "source": [
        "getAudio(S21)\n",
        "display(Audio(f'generated-{CUSTOM_VOICE_NAME}.wav'))"
      ],
      "metadata": {
        "id": "5SUrbLUZk0E6"
      },
      "execution_count": null,
      "outputs": []
    },
    {
      "cell_type": "code",
      "source": [
        "getAudio(S22)\n",
        "display(Audio(f'generated-{CUSTOM_VOICE_NAME}.wav'))"
      ],
      "metadata": {
        "id": "WapKh4Rvk0cB"
      },
      "execution_count": null,
      "outputs": []
    },
    {
      "cell_type": "code",
      "source": [
        "getAudio(S23)\n",
        "display(Audio(f'generated-{CUSTOM_VOICE_NAME}.wav'))"
      ],
      "metadata": {
        "id": "Z3X6gye3k02o"
      },
      "execution_count": null,
      "outputs": []
    },
    {
      "cell_type": "code",
      "source": [
        "getAudio(S24)\n",
        "display(Audio(f'generated-{CUSTOM_VOICE_NAME}.wav'))"
      ],
      "metadata": {
        "id": "Ci0dWoBtkyHg"
      },
      "execution_count": null,
      "outputs": []
    },
    {
      "cell_type": "code",
      "source": [
        "getAudio(S25)\n",
        "display(Audio(f'generated-{CUSTOM_VOICE_NAME}.wav'))"
      ],
      "metadata": {
        "id": "sxdznYM_kyf8"
      },
      "execution_count": null,
      "outputs": []
    },
    {
      "cell_type": "code",
      "source": [
        "getAudio(S26)\n",
        "display(Audio(f'generated-{CUSTOM_VOICE_NAME}.wav'))"
      ],
      "metadata": {
        "id": "ONcD7U94ky3K"
      },
      "execution_count": null,
      "outputs": []
    },
    {
      "cell_type": "code",
      "source": [
        "getAudio(S27)\n",
        "display(Audio(f'generated-{CUSTOM_VOICE_NAME}.wav'))"
      ],
      "metadata": {
        "id": "OfOw6nUhkzPu"
      },
      "execution_count": null,
      "outputs": []
    },
    {
      "cell_type": "code",
      "source": [
        "getAudio(S28)\n",
        "display(Audio(f'generated-{CUSTOM_VOICE_NAME}.wav'))"
      ],
      "metadata": {
        "id": "DzQxZa4aksuL"
      },
      "execution_count": null,
      "outputs": []
    },
    {
      "cell_type": "code",
      "source": [
        "getAudio(S29)\n",
        "display(Audio(f'generated-{CUSTOM_VOICE_NAME}.wav'))"
      ],
      "metadata": {
        "id": "ka-kclAoktDs"
      },
      "execution_count": null,
      "outputs": []
    },
    {
      "cell_type": "code",
      "source": [
        "getAudio(S30)\n",
        "display(Audio(f'generated-{CUSTOM_VOICE_NAME}.wav'))"
      ],
      "metadata": {
        "id": "j0Q7KNthkvJC"
      },
      "execution_count": null,
      "outputs": []
    },
    {
      "cell_type": "code",
      "source": [
        "getAudio(S31)\n",
        "display(Audio(f'generated-{CUSTOM_VOICE_NAME}.wav'))"
      ],
      "metadata": {
        "id": "nkJXRXwok_5T"
      },
      "execution_count": null,
      "outputs": []
    },
    {
      "cell_type": "code",
      "source": [
        "getAudio(S32)\n",
        "display(Audio(f'generated-{CUSTOM_VOICE_NAME}.wav'))"
      ],
      "metadata": {
        "id": "AuQxyQK7lAFx"
      },
      "execution_count": null,
      "outputs": []
    },
    {
      "cell_type": "code",
      "source": [
        "getAudio(S33)\n",
        "display(Audio(f'generated-{CUSTOM_VOICE_NAME}.wav'))"
      ],
      "metadata": {
        "id": "yFeGr3qtlAe7"
      },
      "execution_count": null,
      "outputs": []
    },
    {
      "cell_type": "code",
      "source": [
        "getAudio(S34)\n",
        "display(Audio(f'generated-{CUSTOM_VOICE_NAME}.wav'))"
      ],
      "metadata": {
        "id": "qrxutrjdlA1F"
      },
      "execution_count": null,
      "outputs": []
    },
    {
      "cell_type": "code",
      "source": [
        "getAudio(S35)\n",
        "display(Audio(f'generated-{CUSTOM_VOICE_NAME}.wav'))"
      ],
      "metadata": {
        "id": "ulUC5wuulBKE"
      },
      "execution_count": null,
      "outputs": []
    },
    {
      "cell_type": "code",
      "source": [
        "getAudio(S36)\n",
        "display(Audio(f'generated-{CUSTOM_VOICE_NAME}.wav'))"
      ],
      "metadata": {
        "id": "ha1VnpjklBfg"
      },
      "execution_count": null,
      "outputs": []
    },
    {
      "cell_type": "code",
      "source": [
        "getAudio(S37)\n",
        "display(Audio(f'generated-{CUSTOM_VOICE_NAME}.wav'))"
      ],
      "metadata": {
        "id": "WJZDM2rwlB1H"
      },
      "execution_count": null,
      "outputs": []
    },
    {
      "cell_type": "code",
      "source": [
        "getAudio(S38)\n",
        "display(Audio(f'generated-{CUSTOM_VOICE_NAME}.wav'))"
      ],
      "metadata": {
        "id": "zheCQi83lCVw"
      },
      "execution_count": null,
      "outputs": []
    },
    {
      "cell_type": "code",
      "source": [
        "getAudio(S39)\n",
        "display(Audio(f'generated-{CUSTOM_VOICE_NAME}.wav'))"
      ],
      "metadata": {
        "id": "d_2uwBM0lCt6"
      },
      "execution_count": null,
      "outputs": []
    },
    {
      "cell_type": "code",
      "source": [
        "getAudio(S40)\n",
        "display(Audio(f'generated-{CUSTOM_VOICE_NAME}.wav'))"
      ],
      "metadata": {
        "id": "3l_8b8TSlDE4"
      },
      "execution_count": null,
      "outputs": []
    },
    {
      "cell_type": "code",
      "source": [
        "getAudio(S41)\n",
        "display(Audio(f'generated-{CUSTOM_VOICE_NAME}.wav'))"
      ],
      "metadata": {
        "id": "El8_ZgC1lDa6"
      },
      "execution_count": null,
      "outputs": []
    },
    {
      "cell_type": "code",
      "source": [
        "getAudio(S42)\n",
        "display(Audio(f'generated-{CUSTOM_VOICE_NAME}.wav'))"
      ],
      "metadata": {
        "id": "WDgVq5CrlDw1"
      },
      "execution_count": null,
      "outputs": []
    },
    {
      "cell_type": "code",
      "source": [
        "getAudio(S43)\n",
        "display(Audio(f'generated-{CUSTOM_VOICE_NAME}.wav'))"
      ],
      "metadata": {
        "id": "HcW_dyeWlEHI"
      },
      "execution_count": null,
      "outputs": []
    },
    {
      "cell_type": "code",
      "source": [
        "getAudio(S44)\n",
        "display(Audio(f'generated-{CUSTOM_VOICE_NAME}.wav'))"
      ],
      "metadata": {
        "id": "DT3PGKeilEdk"
      },
      "execution_count": null,
      "outputs": []
    },
    {
      "cell_type": "code",
      "source": [
        "getAudio(S45)\n",
        "display(Audio(f'generated-{CUSTOM_VOICE_NAME}.wav'))"
      ],
      "metadata": {
        "id": "LOHVlWq9lE0J"
      },
      "execution_count": null,
      "outputs": []
    },
    {
      "cell_type": "code",
      "source": [
        "getAudio(S46)\n",
        "display(Audio(f'generated-{CUSTOM_VOICE_NAME}.wav'))"
      ],
      "metadata": {
        "id": "vuJbZXejlFLR"
      },
      "execution_count": null,
      "outputs": []
    },
    {
      "cell_type": "code",
      "source": [
        "getAudio(S47)\n",
        "display(Audio(f'generated-{CUSTOM_VOICE_NAME}.wav'))"
      ],
      "metadata": {
        "id": "eX5kFednlFiU"
      },
      "execution_count": null,
      "outputs": []
    },
    {
      "cell_type": "code",
      "source": [
        "getAudio(S48)\n",
        "display(Audio(f'generated-{CUSTOM_VOICE_NAME}.wav'))"
      ],
      "metadata": {
        "id": "FZtSRRo8lF4K"
      },
      "execution_count": null,
      "outputs": []
    },
    {
      "cell_type": "code",
      "source": [
        "getAudio(S49)\n",
        "display(Audio(f'generated-{CUSTOM_VOICE_NAME}.wav'))"
      ],
      "metadata": {
        "id": "wM5ccb3WlGP5"
      },
      "execution_count": null,
      "outputs": []
    },
    {
      "cell_type": "code",
      "source": [
        "getAudio(S50)\n",
        "display(Audio(f'generated-{CUSTOM_VOICE_NAME}.wav'))"
      ],
      "metadata": {
        "id": "E_V8dv28lGnR"
      },
      "execution_count": null,
      "outputs": []
    },
    {
      "cell_type": "code",
      "source": [
        "getAudio(S51)\n",
        "display(Audio(f'generated-{CUSTOM_VOICE_NAME}.wav'))"
      ],
      "metadata": {
        "id": "sTbCWA1ulG-N"
      },
      "execution_count": null,
      "outputs": []
    },
    {
      "cell_type": "code",
      "source": [
        "getAudio(S52)\n",
        "display(Audio(f'generated-{CUSTOM_VOICE_NAME}.wav'))"
      ],
      "metadata": {
        "id": "N-bZ7EBblZvy"
      },
      "execution_count": null,
      "outputs": []
    },
    {
      "cell_type": "code",
      "source": [
        "getAudio(S53)\n",
        "display(Audio(f'generated-{CUSTOM_VOICE_NAME}.wav'))"
      ],
      "metadata": {
        "id": "v6ZuwprxlaKf"
      },
      "execution_count": null,
      "outputs": []
    },
    {
      "cell_type": "code",
      "source": [
        "getAudio(S54)\n",
        "display(Audio(f'generated-{CUSTOM_VOICE_NAME}.wav'))"
      ],
      "metadata": {
        "id": "jIEwlNQ7lae8"
      },
      "execution_count": null,
      "outputs": []
    },
    {
      "cell_type": "code",
      "source": [
        "getAudio(S55)\n",
        "display(Audio(f'generated-{CUSTOM_VOICE_NAME}.wav'))"
      ],
      "metadata": {
        "id": "INYRZpGxlax8"
      },
      "execution_count": null,
      "outputs": []
    },
    {
      "cell_type": "code",
      "source": [
        "getAudio(S56)\n",
        "display(Audio(f'generated-{CUSTOM_VOICE_NAME}.wav'))"
      ],
      "metadata": {
        "id": "GXhAjD7RlbGr"
      },
      "execution_count": null,
      "outputs": []
    },
    {
      "cell_type": "code",
      "source": [
        "getAudio(S57)\n",
        "display(Audio(f'generated-{CUSTOM_VOICE_NAME}.wav'))"
      ],
      "metadata": {
        "id": "pet6TjlClbcL"
      },
      "execution_count": null,
      "outputs": []
    },
    {
      "cell_type": "code",
      "source": [
        "getAudio(S58)\n",
        "display(Audio(f'generated-{CUSTOM_VOICE_NAME}.wav'))"
      ],
      "metadata": {
        "id": "vNHyubFdlbz3"
      },
      "execution_count": null,
      "outputs": []
    },
    {
      "cell_type": "code",
      "source": [
        "getAudio(S59)\n",
        "display(Audio(f'generated-{CUSTOM_VOICE_NAME}.wav'))"
      ],
      "metadata": {
        "id": "CGo11Fr-lcLr"
      },
      "execution_count": null,
      "outputs": []
    },
    {
      "cell_type": "code",
      "source": [
        "getAudio(S60)\n",
        "display(Audio(f'generated-{CUSTOM_VOICE_NAME}.wav'))"
      ],
      "metadata": {
        "id": "lOC8uf3Ylcrn"
      },
      "execution_count": null,
      "outputs": []
    },
    {
      "cell_type": "code",
      "source": [
        "getAudio(S61)\n",
        "display(Audio(f'generated-{CUSTOM_VOICE_NAME}.wav'))"
      ],
      "metadata": {
        "id": "EuOtzVbmldGa"
      },
      "execution_count": null,
      "outputs": []
    },
    {
      "cell_type": "code",
      "source": [
        "getAudio(S62)\n",
        "display(Audio(f'generated-{CUSTOM_VOICE_NAME}.wav'))"
      ],
      "metadata": {
        "id": "7j-0TI2Xlde9"
      },
      "execution_count": null,
      "outputs": []
    },
    {
      "cell_type": "code",
      "source": [
        "getAudio(S63)\n",
        "display(Audio(f'generated-{CUSTOM_VOICE_NAME}.wav'))"
      ],
      "metadata": {
        "id": "eToYkHQ5ld3M"
      },
      "execution_count": null,
      "outputs": []
    },
    {
      "cell_type": "code",
      "source": [
        "getAudio(S64)\n",
        "display(Audio(f'generated-{CUSTOM_VOICE_NAME}.wav'))"
      ],
      "metadata": {
        "id": "d6qs0oxgleNu"
      },
      "execution_count": null,
      "outputs": []
    },
    {
      "cell_type": "code",
      "source": [
        "getAudio(S65)\n",
        "display(Audio(f'generated-{CUSTOM_VOICE_NAME}.wav'))"
      ],
      "metadata": {
        "id": "3rWifMwZlejV"
      },
      "execution_count": null,
      "outputs": []
    },
    {
      "cell_type": "code",
      "source": [
        "getAudio(S66)\n",
        "display(Audio(f'generated-{CUSTOM_VOICE_NAME}.wav'))"
      ],
      "metadata": {
        "id": "v8apcqtTlflI"
      },
      "execution_count": null,
      "outputs": []
    },
    {
      "cell_type": "code",
      "source": [
        "getAudio(S67)\n",
        "display(Audio(f'generated-{CUSTOM_VOICE_NAME}.wav'))"
      ],
      "metadata": {
        "id": "iECTj92dlgDu"
      },
      "execution_count": null,
      "outputs": []
    },
    {
      "cell_type": "code",
      "source": [
        "getAudio(S68)\n",
        "display(Audio(f'generated-{CUSTOM_VOICE_NAME}.wav'))"
      ],
      "metadata": {
        "id": "O2-nRQJHlnJW"
      },
      "execution_count": null,
      "outputs": []
    },
    {
      "cell_type": "code",
      "source": [
        "getAudio(S69)\n",
        "display(Audio(f'generated-{CUSTOM_VOICE_NAME}.wav'))"
      ],
      "metadata": {
        "id": "sjYDC5yDlnmJ"
      },
      "execution_count": null,
      "outputs": []
    },
    {
      "cell_type": "code",
      "source": [
        "getAudio(S70)\n",
        "display(Audio(f'generated-{CUSTOM_VOICE_NAME}.wav'))"
      ],
      "metadata": {
        "id": "CIZLJ3zoln9k"
      },
      "execution_count": null,
      "outputs": []
    },
    {
      "cell_type": "code",
      "source": [
        "getAudio(S71)\n",
        "display(Audio(f'generated-{CUSTOM_VOICE_NAME}.wav'))"
      ],
      "metadata": {
        "id": "ZdAHIqA9loSr"
      },
      "execution_count": null,
      "outputs": []
    },
    {
      "cell_type": "code",
      "source": [
        "getAudio(S72)\n",
        "display(Audio(f'generated-{CUSTOM_VOICE_NAME}.wav'))"
      ],
      "metadata": {
        "id": "EsfcJuOGloqD"
      },
      "execution_count": null,
      "outputs": []
    },
    {
      "cell_type": "code",
      "source": [
        "getAudio(S73)\n",
        "display(Audio(f'generated-{CUSTOM_VOICE_NAME}.wav'))"
      ],
      "metadata": {
        "id": "ycQPFd1hlpV3"
      },
      "execution_count": null,
      "outputs": []
    },
    {
      "cell_type": "code",
      "source": [
        "getAudio(S74)\n",
        "display(Audio(f'generated-{CUSTOM_VOICE_NAME}.wav'))"
      ],
      "metadata": {
        "id": "i_WeOtyYlpvs"
      },
      "execution_count": null,
      "outputs": []
    },
    {
      "cell_type": "code",
      "source": [
        "getAudio(S75)\n",
        "display(Audio(f'generated-{CUSTOM_VOICE_NAME}.wav'))"
      ],
      "metadata": {
        "id": "eWfbb9XBlqV3"
      },
      "execution_count": null,
      "outputs": []
    },
    {
      "cell_type": "code",
      "source": [
        "getAudio(S76)\n",
        "display(Audio(f'generated-{CUSTOM_VOICE_NAME}.wav'))"
      ],
      "metadata": {
        "id": "WBUrTpzSlqyJ"
      },
      "execution_count": null,
      "outputs": []
    },
    {
      "cell_type": "code",
      "source": [
        "getAudio(S77)\n",
        "display(Audio(f'generated-{CUSTOM_VOICE_NAME}.wav'))"
      ],
      "metadata": {
        "id": "uT-otPz6lrMZ"
      },
      "execution_count": null,
      "outputs": []
    },
    {
      "cell_type": "code",
      "source": [
        "getAudio(S78)\n",
        "display(Audio(f'generated-{CUSTOM_VOICE_NAME}.wav'))"
      ],
      "metadata": {
        "id": "30BQf9i9lroc"
      },
      "execution_count": null,
      "outputs": []
    },
    {
      "cell_type": "code",
      "source": [
        "getAudio(S79)\n",
        "display(Audio(f'generated-{CUSTOM_VOICE_NAME}.wav'))"
      ],
      "metadata": {
        "id": "UJi92olvlsmG"
      },
      "execution_count": null,
      "outputs": []
    },
    {
      "cell_type": "code",
      "source": [
        "getAudio(S80)\n",
        "display(Audio(f'generated-{CUSTOM_VOICE_NAME}.wav'))"
      ],
      "metadata": {
        "id": "shldYYWOls_T"
      },
      "execution_count": null,
      "outputs": []
    },
    {
      "cell_type": "code",
      "source": [
        "getAudio(S81)\n",
        "display(Audio(f'generated-{CUSTOM_VOICE_NAME}.wav'))"
      ],
      "metadata": {
        "id": "VN4pCUQZltXf"
      },
      "execution_count": null,
      "outputs": []
    },
    {
      "cell_type": "code",
      "source": [
        "getAudio(S82)\n",
        "display(Audio(f'generated-{CUSTOM_VOICE_NAME}.wav'))"
      ],
      "metadata": {
        "id": "ZJmuvmtOltv9"
      },
      "execution_count": null,
      "outputs": []
    },
    {
      "cell_type": "code",
      "source": [
        "getAudio(S83)\n",
        "display(Audio(f'generated-{CUSTOM_VOICE_NAME}.wav'))"
      ],
      "metadata": {
        "id": "whyVWb3qluOT"
      },
      "execution_count": null,
      "outputs": []
    },
    {
      "cell_type": "code",
      "source": [
        "getAudio(S84)\n",
        "display(Audio(f'generated-{CUSTOM_VOICE_NAME}.wav'))"
      ],
      "metadata": {
        "id": "XKsGcqRklum_"
      },
      "execution_count": null,
      "outputs": []
    },
    {
      "cell_type": "code",
      "source": [
        "getAudio(S85)\n",
        "display(Audio(f'generated-{CUSTOM_VOICE_NAME}.wav'))"
      ],
      "metadata": {
        "id": "ZPxHHH1Hlu_z"
      },
      "execution_count": null,
      "outputs": []
    },
    {
      "cell_type": "code",
      "source": [
        "getAudio(S86)\n",
        "display(Audio(f'generated-{CUSTOM_VOICE_NAME}.wav'))"
      ],
      "metadata": {
        "id": "kTE_ro7ElvW4"
      },
      "execution_count": null,
      "outputs": []
    },
    {
      "cell_type": "code",
      "source": [
        "getAudio(S87)\n",
        "display(Audio(f'generated-{CUSTOM_VOICE_NAME}.wav'))"
      ],
      "metadata": {
        "id": "nkaGrKfmlvw7"
      },
      "execution_count": null,
      "outputs": []
    },
    {
      "cell_type": "code",
      "source": [
        "getAudio(S88)\n",
        "display(Audio(f'generated-{CUSTOM_VOICE_NAME}.wav'))"
      ],
      "metadata": {
        "id": "q7IBlPOllwI1"
      },
      "execution_count": null,
      "outputs": []
    },
    {
      "cell_type": "code",
      "source": [
        "getAudio(S89)\n",
        "display(Audio(f'generated-{CUSTOM_VOICE_NAME}.wav'))"
      ],
      "metadata": {
        "id": "uDfr3Gtwlwjb"
      },
      "execution_count": null,
      "outputs": []
    },
    {
      "cell_type": "code",
      "source": [
        "getAudio(S90)\n",
        "display(Audio(f'generated-{CUSTOM_VOICE_NAME}.wav'))"
      ],
      "metadata": {
        "id": "wVYPP8kelw7f"
      },
      "execution_count": null,
      "outputs": []
    },
    {
      "cell_type": "code",
      "source": [
        "getAudio(S91)\n",
        "display(Audio(f'generated-{CUSTOM_VOICE_NAME}.wav'))"
      ],
      "metadata": {
        "id": "bNy0WWMfrQZN"
      },
      "execution_count": null,
      "outputs": []
    },
    {
      "cell_type": "code",
      "source": [
        "getAudio(S92)\n",
        "display(Audio(f'generated-{CUSTOM_VOICE_NAME}.wav'))"
      ],
      "metadata": {
        "id": "_RDFzrJArQjk"
      },
      "execution_count": null,
      "outputs": []
    },
    {
      "cell_type": "code",
      "source": [
        "getAudio(S93)\n",
        "display(Audio(f'generated-{CUSTOM_VOICE_NAME}.wav'))"
      ],
      "metadata": {
        "id": "hY7tQ3ecrQrP"
      },
      "execution_count": null,
      "outputs": []
    },
    {
      "cell_type": "code",
      "source": [
        "getAudio(S94)\n",
        "display(Audio(f'generated-{CUSTOM_VOICE_NAME}.wav'))"
      ],
      "metadata": {
        "id": "LmEtNChirRBX"
      },
      "execution_count": null,
      "outputs": []
    },
    {
      "cell_type": "code",
      "source": [
        "getAudio(S95)\n",
        "display(Audio(f'generated-{CUSTOM_VOICE_NAME}.wav'))"
      ],
      "metadata": {
        "id": "9e_1jYz7rRez"
      },
      "execution_count": null,
      "outputs": []
    },
    {
      "cell_type": "code",
      "source": [
        "getAudio(S96)\n",
        "display(Audio(f'generated-{CUSTOM_VOICE_NAME}.wav'))"
      ],
      "metadata": {
        "id": "u7iDZoOQrSQn"
      },
      "execution_count": null,
      "outputs": []
    },
    {
      "cell_type": "code",
      "source": [
        "getAudio(S97)\n",
        "display(Audio(f'generated-{CUSTOM_VOICE_NAME}.wav'))"
      ],
      "metadata": {
        "id": "Ci_NVef8rSoB"
      },
      "execution_count": null,
      "outputs": []
    },
    {
      "cell_type": "code",
      "source": [
        "getAudio(S98)\n",
        "display(Audio(f'generated-{CUSTOM_VOICE_NAME}.wav'))"
      ],
      "metadata": {
        "id": "1wHccWb7rS9q"
      },
      "execution_count": null,
      "outputs": []
    },
    {
      "cell_type": "code",
      "source": [
        "getAudio(S99)\n",
        "display(Audio(f'generated-{CUSTOM_VOICE_NAME}.wav'))"
      ],
      "metadata": {
        "id": "AztTL9DCroSd"
      },
      "execution_count": null,
      "outputs": []
    },
    {
      "cell_type": "code",
      "source": [
        "getAudio(S100)\n",
        "display(Audio(f'generated-{CUSTOM_VOICE_NAME}.wav'))"
      ],
      "metadata": {
        "id": "f9-38FXlrToD"
      },
      "execution_count": null,
      "outputs": []
    }
  ],
  "metadata": {
    "accelerator": "GPU",
    "colab": {
      "gpuType": "T4",
      "provenance": [],
      "collapsed_sections": [
        "ARPitz7PoBEJ"
      ],
      "include_colab_link": true
    },
    "kernelspec": {
      "display_name": "Python 3",
      "name": "python3"
    },
    "language_info": {
      "name": "python"
    },
    "widgets": {
      "application/vnd.jupyter.widget-state+json": {
        "a263308f98d84fdba93c6e8487a9f594": {
          "model_module": "@jupyter-widgets/controls",
          "model_name": "HBoxModel",
          "model_module_version": "1.5.0",
          "state": {
            "_dom_classes": [],
            "_model_module": "@jupyter-widgets/controls",
            "_model_module_version": "1.5.0",
            "_model_name": "HBoxModel",
            "_view_count": null,
            "_view_module": "@jupyter-widgets/controls",
            "_view_module_version": "1.5.0",
            "_view_name": "HBoxView",
            "box_style": "",
            "children": [
              "IPY_MODEL_5abaedb62d534b51be53910ee98edda3",
              "IPY_MODEL_15367ebeb6a04a08bc89105f2d91f97b",
              "IPY_MODEL_12e3d58e0d4446dfa10e181879f100a2"
            ],
            "layout": "IPY_MODEL_f0c0c8509e424096b69c883d65b60498"
          }
        },
        "5abaedb62d534b51be53910ee98edda3": {
          "model_module": "@jupyter-widgets/controls",
          "model_name": "HTMLModel",
          "model_module_version": "1.5.0",
          "state": {
            "_dom_classes": [],
            "_model_module": "@jupyter-widgets/controls",
            "_model_module_version": "1.5.0",
            "_model_name": "HTMLModel",
            "_view_count": null,
            "_view_module": "@jupyter-widgets/controls",
            "_view_module_version": "1.5.0",
            "_view_name": "HTMLView",
            "description": "",
            "description_tooltip": null,
            "layout": "IPY_MODEL_3f7172dd080f4cb690872f1cbbcac564",
            "placeholder": "​",
            "style": "IPY_MODEL_85cf5568270547a8a0ad78372f084d0d",
            "value": "Downloading: 100%"
          }
        },
        "15367ebeb6a04a08bc89105f2d91f97b": {
          "model_module": "@jupyter-widgets/controls",
          "model_name": "FloatProgressModel",
          "model_module_version": "1.5.0",
          "state": {
            "_dom_classes": [],
            "_model_module": "@jupyter-widgets/controls",
            "_model_module_version": "1.5.0",
            "_model_name": "FloatProgressModel",
            "_view_count": null,
            "_view_module": "@jupyter-widgets/controls",
            "_view_module_version": "1.5.0",
            "_view_name": "ProgressView",
            "bar_style": "success",
            "description": "",
            "description_tooltip": null,
            "layout": "IPY_MODEL_0ea53b91b5a5486e928f7fd06c3bde1a",
            "max": 2107,
            "min": 0,
            "orientation": "horizontal",
            "style": "IPY_MODEL_106723a28f6349dba89f2a17beedaacc",
            "value": 2107
          }
        },
        "12e3d58e0d4446dfa10e181879f100a2": {
          "model_module": "@jupyter-widgets/controls",
          "model_name": "HTMLModel",
          "model_module_version": "1.5.0",
          "state": {
            "_dom_classes": [],
            "_model_module": "@jupyter-widgets/controls",
            "_model_module_version": "1.5.0",
            "_model_name": "HTMLModel",
            "_view_count": null,
            "_view_module": "@jupyter-widgets/controls",
            "_view_module_version": "1.5.0",
            "_view_name": "HTMLView",
            "description": "",
            "description_tooltip": null,
            "layout": "IPY_MODEL_55fbb071b8a74f60a6d7e64f4e28c962",
            "placeholder": "​",
            "style": "IPY_MODEL_614f759e16f8497d9ed0696fb3446338",
            "value": " 2.06k/2.06k [00:00&lt;00:00, 51.7kB/s]"
          }
        },
        "f0c0c8509e424096b69c883d65b60498": {
          "model_module": "@jupyter-widgets/base",
          "model_name": "LayoutModel",
          "model_module_version": "1.2.0",
          "state": {
            "_model_module": "@jupyter-widgets/base",
            "_model_module_version": "1.2.0",
            "_model_name": "LayoutModel",
            "_view_count": null,
            "_view_module": "@jupyter-widgets/base",
            "_view_module_version": "1.2.0",
            "_view_name": "LayoutView",
            "align_content": null,
            "align_items": null,
            "align_self": null,
            "border": null,
            "bottom": null,
            "display": null,
            "flex": null,
            "flex_flow": null,
            "grid_area": null,
            "grid_auto_columns": null,
            "grid_auto_flow": null,
            "grid_auto_rows": null,
            "grid_column": null,
            "grid_gap": null,
            "grid_row": null,
            "grid_template_areas": null,
            "grid_template_columns": null,
            "grid_template_rows": null,
            "height": null,
            "justify_content": null,
            "justify_items": null,
            "left": null,
            "margin": null,
            "max_height": null,
            "max_width": null,
            "min_height": null,
            "min_width": null,
            "object_fit": null,
            "object_position": null,
            "order": null,
            "overflow": null,
            "overflow_x": null,
            "overflow_y": null,
            "padding": null,
            "right": null,
            "top": null,
            "visibility": null,
            "width": null
          }
        },
        "3f7172dd080f4cb690872f1cbbcac564": {
          "model_module": "@jupyter-widgets/base",
          "model_name": "LayoutModel",
          "model_module_version": "1.2.0",
          "state": {
            "_model_module": "@jupyter-widgets/base",
            "_model_module_version": "1.2.0",
            "_model_name": "LayoutModel",
            "_view_count": null,
            "_view_module": "@jupyter-widgets/base",
            "_view_module_version": "1.2.0",
            "_view_name": "LayoutView",
            "align_content": null,
            "align_items": null,
            "align_self": null,
            "border": null,
            "bottom": null,
            "display": null,
            "flex": null,
            "flex_flow": null,
            "grid_area": null,
            "grid_auto_columns": null,
            "grid_auto_flow": null,
            "grid_auto_rows": null,
            "grid_column": null,
            "grid_gap": null,
            "grid_row": null,
            "grid_template_areas": null,
            "grid_template_columns": null,
            "grid_template_rows": null,
            "height": null,
            "justify_content": null,
            "justify_items": null,
            "left": null,
            "margin": null,
            "max_height": null,
            "max_width": null,
            "min_height": null,
            "min_width": null,
            "object_fit": null,
            "object_position": null,
            "order": null,
            "overflow": null,
            "overflow_x": null,
            "overflow_y": null,
            "padding": null,
            "right": null,
            "top": null,
            "visibility": null,
            "width": null
          }
        },
        "85cf5568270547a8a0ad78372f084d0d": {
          "model_module": "@jupyter-widgets/controls",
          "model_name": "DescriptionStyleModel",
          "model_module_version": "1.5.0",
          "state": {
            "_model_module": "@jupyter-widgets/controls",
            "_model_module_version": "1.5.0",
            "_model_name": "DescriptionStyleModel",
            "_view_count": null,
            "_view_module": "@jupyter-widgets/base",
            "_view_module_version": "1.2.0",
            "_view_name": "StyleView",
            "description_width": ""
          }
        },
        "0ea53b91b5a5486e928f7fd06c3bde1a": {
          "model_module": "@jupyter-widgets/base",
          "model_name": "LayoutModel",
          "model_module_version": "1.2.0",
          "state": {
            "_model_module": "@jupyter-widgets/base",
            "_model_module_version": "1.2.0",
            "_model_name": "LayoutModel",
            "_view_count": null,
            "_view_module": "@jupyter-widgets/base",
            "_view_module_version": "1.2.0",
            "_view_name": "LayoutView",
            "align_content": null,
            "align_items": null,
            "align_self": null,
            "border": null,
            "bottom": null,
            "display": null,
            "flex": null,
            "flex_flow": null,
            "grid_area": null,
            "grid_auto_columns": null,
            "grid_auto_flow": null,
            "grid_auto_rows": null,
            "grid_column": null,
            "grid_gap": null,
            "grid_row": null,
            "grid_template_areas": null,
            "grid_template_columns": null,
            "grid_template_rows": null,
            "height": null,
            "justify_content": null,
            "justify_items": null,
            "left": null,
            "margin": null,
            "max_height": null,
            "max_width": null,
            "min_height": null,
            "min_width": null,
            "object_fit": null,
            "object_position": null,
            "order": null,
            "overflow": null,
            "overflow_x": null,
            "overflow_y": null,
            "padding": null,
            "right": null,
            "top": null,
            "visibility": null,
            "width": null
          }
        },
        "106723a28f6349dba89f2a17beedaacc": {
          "model_module": "@jupyter-widgets/controls",
          "model_name": "ProgressStyleModel",
          "model_module_version": "1.5.0",
          "state": {
            "_model_module": "@jupyter-widgets/controls",
            "_model_module_version": "1.5.0",
            "_model_name": "ProgressStyleModel",
            "_view_count": null,
            "_view_module": "@jupyter-widgets/base",
            "_view_module_version": "1.2.0",
            "_view_name": "StyleView",
            "bar_color": null,
            "description_width": ""
          }
        },
        "55fbb071b8a74f60a6d7e64f4e28c962": {
          "model_module": "@jupyter-widgets/base",
          "model_name": "LayoutModel",
          "model_module_version": "1.2.0",
          "state": {
            "_model_module": "@jupyter-widgets/base",
            "_model_module_version": "1.2.0",
            "_model_name": "LayoutModel",
            "_view_count": null,
            "_view_module": "@jupyter-widgets/base",
            "_view_module_version": "1.2.0",
            "_view_name": "LayoutView",
            "align_content": null,
            "align_items": null,
            "align_self": null,
            "border": null,
            "bottom": null,
            "display": null,
            "flex": null,
            "flex_flow": null,
            "grid_area": null,
            "grid_auto_columns": null,
            "grid_auto_flow": null,
            "grid_auto_rows": null,
            "grid_column": null,
            "grid_gap": null,
            "grid_row": null,
            "grid_template_areas": null,
            "grid_template_columns": null,
            "grid_template_rows": null,
            "height": null,
            "justify_content": null,
            "justify_items": null,
            "left": null,
            "margin": null,
            "max_height": null,
            "max_width": null,
            "min_height": null,
            "min_width": null,
            "object_fit": null,
            "object_position": null,
            "order": null,
            "overflow": null,
            "overflow_x": null,
            "overflow_y": null,
            "padding": null,
            "right": null,
            "top": null,
            "visibility": null,
            "width": null
          }
        },
        "614f759e16f8497d9ed0696fb3446338": {
          "model_module": "@jupyter-widgets/controls",
          "model_name": "DescriptionStyleModel",
          "model_module_version": "1.5.0",
          "state": {
            "_model_module": "@jupyter-widgets/controls",
            "_model_module_version": "1.5.0",
            "_model_name": "DescriptionStyleModel",
            "_view_count": null,
            "_view_module": "@jupyter-widgets/base",
            "_view_module_version": "1.2.0",
            "_view_name": "StyleView",
            "description_width": ""
          }
        },
        "bdaaee3deb8e4f2bbed14629f01d8598": {
          "model_module": "@jupyter-widgets/controls",
          "model_name": "HBoxModel",
          "model_module_version": "1.5.0",
          "state": {
            "_dom_classes": [],
            "_model_module": "@jupyter-widgets/controls",
            "_model_module_version": "1.5.0",
            "_model_name": "HBoxModel",
            "_view_count": null,
            "_view_module": "@jupyter-widgets/controls",
            "_view_module_version": "1.5.0",
            "_view_name": "HBoxView",
            "box_style": "",
            "children": [
              "IPY_MODEL_db4f69d3790a4b3cbd803b0ea95116cb",
              "IPY_MODEL_c758f2f760ff44fbb669d8c8028a59f9",
              "IPY_MODEL_5be13ed91a1b40c2a7cbab209108e027"
            ],
            "layout": "IPY_MODEL_aa94e3e1476e4bdea27662143b1a5781"
          }
        },
        "db4f69d3790a4b3cbd803b0ea95116cb": {
          "model_module": "@jupyter-widgets/controls",
          "model_name": "HTMLModel",
          "model_module_version": "1.5.0",
          "state": {
            "_dom_classes": [],
            "_model_module": "@jupyter-widgets/controls",
            "_model_module_version": "1.5.0",
            "_model_name": "HTMLModel",
            "_view_count": null,
            "_view_module": "@jupyter-widgets/controls",
            "_view_module_version": "1.5.0",
            "_view_name": "HTMLView",
            "description": "",
            "description_tooltip": null,
            "layout": "IPY_MODEL_bed6b89c65094e749b58cd619bb8c20b",
            "placeholder": "​",
            "style": "IPY_MODEL_237e471064bf46a3b24032945091efb9",
            "value": "Downloading: 100%"
          }
        },
        "c758f2f760ff44fbb669d8c8028a59f9": {
          "model_module": "@jupyter-widgets/controls",
          "model_name": "FloatProgressModel",
          "model_module_version": "1.5.0",
          "state": {
            "_dom_classes": [],
            "_model_module": "@jupyter-widgets/controls",
            "_model_module_version": "1.5.0",
            "_model_name": "FloatProgressModel",
            "_view_count": null,
            "_view_module": "@jupyter-widgets/controls",
            "_view_module_version": "1.5.0",
            "_view_name": "ProgressView",
            "bar_style": "success",
            "description": "",
            "description_tooltip": null,
            "layout": "IPY_MODEL_c76b5dba631744c0a020fa440ca14324",
            "max": 1262524593,
            "min": 0,
            "orientation": "horizontal",
            "style": "IPY_MODEL_484ad0c31a6841ffaaa80999235b1966",
            "value": 1262524593
          }
        },
        "5be13ed91a1b40c2a7cbab209108e027": {
          "model_module": "@jupyter-widgets/controls",
          "model_name": "HTMLModel",
          "model_module_version": "1.5.0",
          "state": {
            "_dom_classes": [],
            "_model_module": "@jupyter-widgets/controls",
            "_model_module_version": "1.5.0",
            "_model_name": "HTMLModel",
            "_view_count": null,
            "_view_module": "@jupyter-widgets/controls",
            "_view_module_version": "1.5.0",
            "_view_name": "HTMLView",
            "description": "",
            "description_tooltip": null,
            "layout": "IPY_MODEL_b0fd25b5361140ed9f410f51cc8b9a53",
            "placeholder": "​",
            "style": "IPY_MODEL_34c56d9612fe46e0aef233b711a4755f",
            "value": " 1.18G/1.18G [00:20&lt;00:00, 66.9MB/s]"
          }
        },
        "aa94e3e1476e4bdea27662143b1a5781": {
          "model_module": "@jupyter-widgets/base",
          "model_name": "LayoutModel",
          "model_module_version": "1.2.0",
          "state": {
            "_model_module": "@jupyter-widgets/base",
            "_model_module_version": "1.2.0",
            "_model_name": "LayoutModel",
            "_view_count": null,
            "_view_module": "@jupyter-widgets/base",
            "_view_module_version": "1.2.0",
            "_view_name": "LayoutView",
            "align_content": null,
            "align_items": null,
            "align_self": null,
            "border": null,
            "bottom": null,
            "display": null,
            "flex": null,
            "flex_flow": null,
            "grid_area": null,
            "grid_auto_columns": null,
            "grid_auto_flow": null,
            "grid_auto_rows": null,
            "grid_column": null,
            "grid_gap": null,
            "grid_row": null,
            "grid_template_areas": null,
            "grid_template_columns": null,
            "grid_template_rows": null,
            "height": null,
            "justify_content": null,
            "justify_items": null,
            "left": null,
            "margin": null,
            "max_height": null,
            "max_width": null,
            "min_height": null,
            "min_width": null,
            "object_fit": null,
            "object_position": null,
            "order": null,
            "overflow": null,
            "overflow_x": null,
            "overflow_y": null,
            "padding": null,
            "right": null,
            "top": null,
            "visibility": null,
            "width": null
          }
        },
        "bed6b89c65094e749b58cd619bb8c20b": {
          "model_module": "@jupyter-widgets/base",
          "model_name": "LayoutModel",
          "model_module_version": "1.2.0",
          "state": {
            "_model_module": "@jupyter-widgets/base",
            "_model_module_version": "1.2.0",
            "_model_name": "LayoutModel",
            "_view_count": null,
            "_view_module": "@jupyter-widgets/base",
            "_view_module_version": "1.2.0",
            "_view_name": "LayoutView",
            "align_content": null,
            "align_items": null,
            "align_self": null,
            "border": null,
            "bottom": null,
            "display": null,
            "flex": null,
            "flex_flow": null,
            "grid_area": null,
            "grid_auto_columns": null,
            "grid_auto_flow": null,
            "grid_auto_rows": null,
            "grid_column": null,
            "grid_gap": null,
            "grid_row": null,
            "grid_template_areas": null,
            "grid_template_columns": null,
            "grid_template_rows": null,
            "height": null,
            "justify_content": null,
            "justify_items": null,
            "left": null,
            "margin": null,
            "max_height": null,
            "max_width": null,
            "min_height": null,
            "min_width": null,
            "object_fit": null,
            "object_position": null,
            "order": null,
            "overflow": null,
            "overflow_x": null,
            "overflow_y": null,
            "padding": null,
            "right": null,
            "top": null,
            "visibility": null,
            "width": null
          }
        },
        "237e471064bf46a3b24032945091efb9": {
          "model_module": "@jupyter-widgets/controls",
          "model_name": "DescriptionStyleModel",
          "model_module_version": "1.5.0",
          "state": {
            "_model_module": "@jupyter-widgets/controls",
            "_model_module_version": "1.5.0",
            "_model_name": "DescriptionStyleModel",
            "_view_count": null,
            "_view_module": "@jupyter-widgets/base",
            "_view_module_version": "1.2.0",
            "_view_name": "StyleView",
            "description_width": ""
          }
        },
        "c76b5dba631744c0a020fa440ca14324": {
          "model_module": "@jupyter-widgets/base",
          "model_name": "LayoutModel",
          "model_module_version": "1.2.0",
          "state": {
            "_model_module": "@jupyter-widgets/base",
            "_model_module_version": "1.2.0",
            "_model_name": "LayoutModel",
            "_view_count": null,
            "_view_module": "@jupyter-widgets/base",
            "_view_module_version": "1.2.0",
            "_view_name": "LayoutView",
            "align_content": null,
            "align_items": null,
            "align_self": null,
            "border": null,
            "bottom": null,
            "display": null,
            "flex": null,
            "flex_flow": null,
            "grid_area": null,
            "grid_auto_columns": null,
            "grid_auto_flow": null,
            "grid_auto_rows": null,
            "grid_column": null,
            "grid_gap": null,
            "grid_row": null,
            "grid_template_areas": null,
            "grid_template_columns": null,
            "grid_template_rows": null,
            "height": null,
            "justify_content": null,
            "justify_items": null,
            "left": null,
            "margin": null,
            "max_height": null,
            "max_width": null,
            "min_height": null,
            "min_width": null,
            "object_fit": null,
            "object_position": null,
            "order": null,
            "overflow": null,
            "overflow_x": null,
            "overflow_y": null,
            "padding": null,
            "right": null,
            "top": null,
            "visibility": null,
            "width": null
          }
        },
        "484ad0c31a6841ffaaa80999235b1966": {
          "model_module": "@jupyter-widgets/controls",
          "model_name": "ProgressStyleModel",
          "model_module_version": "1.5.0",
          "state": {
            "_model_module": "@jupyter-widgets/controls",
            "_model_module_version": "1.5.0",
            "_model_name": "ProgressStyleModel",
            "_view_count": null,
            "_view_module": "@jupyter-widgets/base",
            "_view_module_version": "1.2.0",
            "_view_name": "StyleView",
            "bar_color": null,
            "description_width": ""
          }
        },
        "b0fd25b5361140ed9f410f51cc8b9a53": {
          "model_module": "@jupyter-widgets/base",
          "model_name": "LayoutModel",
          "model_module_version": "1.2.0",
          "state": {
            "_model_module": "@jupyter-widgets/base",
            "_model_module_version": "1.2.0",
            "_model_name": "LayoutModel",
            "_view_count": null,
            "_view_module": "@jupyter-widgets/base",
            "_view_module_version": "1.2.0",
            "_view_name": "LayoutView",
            "align_content": null,
            "align_items": null,
            "align_self": null,
            "border": null,
            "bottom": null,
            "display": null,
            "flex": null,
            "flex_flow": null,
            "grid_area": null,
            "grid_auto_columns": null,
            "grid_auto_flow": null,
            "grid_auto_rows": null,
            "grid_column": null,
            "grid_gap": null,
            "grid_row": null,
            "grid_template_areas": null,
            "grid_template_columns": null,
            "grid_template_rows": null,
            "height": null,
            "justify_content": null,
            "justify_items": null,
            "left": null,
            "margin": null,
            "max_height": null,
            "max_width": null,
            "min_height": null,
            "min_width": null,
            "object_fit": null,
            "object_position": null,
            "order": null,
            "overflow": null,
            "overflow_x": null,
            "overflow_y": null,
            "padding": null,
            "right": null,
            "top": null,
            "visibility": null,
            "width": null
          }
        },
        "34c56d9612fe46e0aef233b711a4755f": {
          "model_module": "@jupyter-widgets/controls",
          "model_name": "DescriptionStyleModel",
          "model_module_version": "1.5.0",
          "state": {
            "_model_module": "@jupyter-widgets/controls",
            "_model_module_version": "1.5.0",
            "_model_name": "DescriptionStyleModel",
            "_view_count": null,
            "_view_module": "@jupyter-widgets/base",
            "_view_module_version": "1.2.0",
            "_view_name": "StyleView",
            "description_width": ""
          }
        },
        "86b4ab15c17c49dda009dbab7797b890": {
          "model_module": "@jupyter-widgets/controls",
          "model_name": "HBoxModel",
          "model_module_version": "1.5.0",
          "state": {
            "_dom_classes": [],
            "_model_module": "@jupyter-widgets/controls",
            "_model_module_version": "1.5.0",
            "_model_name": "HBoxModel",
            "_view_count": null,
            "_view_module": "@jupyter-widgets/controls",
            "_view_module_version": "1.5.0",
            "_view_name": "HBoxView",
            "box_style": "",
            "children": [
              "IPY_MODEL_32d4de328c854dac857a1e66ae276cda",
              "IPY_MODEL_5989a7d12bb74a2fbee87fd81d7d5484",
              "IPY_MODEL_08e694417633410da158508bdb492c40"
            ],
            "layout": "IPY_MODEL_006407f629d940c29f7f4982ea4f06a0"
          }
        },
        "32d4de328c854dac857a1e66ae276cda": {
          "model_module": "@jupyter-widgets/controls",
          "model_name": "HTMLModel",
          "model_module_version": "1.5.0",
          "state": {
            "_dom_classes": [],
            "_model_module": "@jupyter-widgets/controls",
            "_model_module_version": "1.5.0",
            "_model_name": "HTMLModel",
            "_view_count": null,
            "_view_module": "@jupyter-widgets/controls",
            "_view_module_version": "1.5.0",
            "_view_name": "HTMLView",
            "description": "",
            "description_tooltip": null,
            "layout": "IPY_MODEL_4869986ee9fd49b4a71812ab0467f31a",
            "placeholder": "​",
            "style": "IPY_MODEL_84e6f7e43d3e44dd9bf860917a13fd0c",
            "value": "Downloading: 100%"
          }
        },
        "5989a7d12bb74a2fbee87fd81d7d5484": {
          "model_module": "@jupyter-widgets/controls",
          "model_name": "FloatProgressModel",
          "model_module_version": "1.5.0",
          "state": {
            "_dom_classes": [],
            "_model_module": "@jupyter-widgets/controls",
            "_model_module_version": "1.5.0",
            "_model_name": "FloatProgressModel",
            "_view_count": null,
            "_view_module": "@jupyter-widgets/controls",
            "_view_module_version": "1.5.0",
            "_view_name": "ProgressView",
            "bar_style": "success",
            "description": "",
            "description_tooltip": null,
            "layout": "IPY_MODEL_16086541b2ef44be8cda1ff05d3db60b",
            "max": 159,
            "min": 0,
            "orientation": "horizontal",
            "style": "IPY_MODEL_1d50a004cf074156b49c04755a22cb3d",
            "value": 159
          }
        },
        "08e694417633410da158508bdb492c40": {
          "model_module": "@jupyter-widgets/controls",
          "model_name": "HTMLModel",
          "model_module_version": "1.5.0",
          "state": {
            "_dom_classes": [],
            "_model_module": "@jupyter-widgets/controls",
            "_model_module_version": "1.5.0",
            "_model_name": "HTMLModel",
            "_view_count": null,
            "_view_module": "@jupyter-widgets/controls",
            "_view_module_version": "1.5.0",
            "_view_name": "HTMLView",
            "description": "",
            "description_tooltip": null,
            "layout": "IPY_MODEL_9bd83feaa7f1466aa3ad91609d22980c",
            "placeholder": "​",
            "style": "IPY_MODEL_dc80f634193e4239adc7ddb43b6e9a3d",
            "value": " 159/159 [00:00&lt;00:00, 8.90kB/s]"
          }
        },
        "006407f629d940c29f7f4982ea4f06a0": {
          "model_module": "@jupyter-widgets/base",
          "model_name": "LayoutModel",
          "model_module_version": "1.2.0",
          "state": {
            "_model_module": "@jupyter-widgets/base",
            "_model_module_version": "1.2.0",
            "_model_name": "LayoutModel",
            "_view_count": null,
            "_view_module": "@jupyter-widgets/base",
            "_view_module_version": "1.2.0",
            "_view_name": "LayoutView",
            "align_content": null,
            "align_items": null,
            "align_self": null,
            "border": null,
            "bottom": null,
            "display": null,
            "flex": null,
            "flex_flow": null,
            "grid_area": null,
            "grid_auto_columns": null,
            "grid_auto_flow": null,
            "grid_auto_rows": null,
            "grid_column": null,
            "grid_gap": null,
            "grid_row": null,
            "grid_template_areas": null,
            "grid_template_columns": null,
            "grid_template_rows": null,
            "height": null,
            "justify_content": null,
            "justify_items": null,
            "left": null,
            "margin": null,
            "max_height": null,
            "max_width": null,
            "min_height": null,
            "min_width": null,
            "object_fit": null,
            "object_position": null,
            "order": null,
            "overflow": null,
            "overflow_x": null,
            "overflow_y": null,
            "padding": null,
            "right": null,
            "top": null,
            "visibility": null,
            "width": null
          }
        },
        "4869986ee9fd49b4a71812ab0467f31a": {
          "model_module": "@jupyter-widgets/base",
          "model_name": "LayoutModel",
          "model_module_version": "1.2.0",
          "state": {
            "_model_module": "@jupyter-widgets/base",
            "_model_module_version": "1.2.0",
            "_model_name": "LayoutModel",
            "_view_count": null,
            "_view_module": "@jupyter-widgets/base",
            "_view_module_version": "1.2.0",
            "_view_name": "LayoutView",
            "align_content": null,
            "align_items": null,
            "align_self": null,
            "border": null,
            "bottom": null,
            "display": null,
            "flex": null,
            "flex_flow": null,
            "grid_area": null,
            "grid_auto_columns": null,
            "grid_auto_flow": null,
            "grid_auto_rows": null,
            "grid_column": null,
            "grid_gap": null,
            "grid_row": null,
            "grid_template_areas": null,
            "grid_template_columns": null,
            "grid_template_rows": null,
            "height": null,
            "justify_content": null,
            "justify_items": null,
            "left": null,
            "margin": null,
            "max_height": null,
            "max_width": null,
            "min_height": null,
            "min_width": null,
            "object_fit": null,
            "object_position": null,
            "order": null,
            "overflow": null,
            "overflow_x": null,
            "overflow_y": null,
            "padding": null,
            "right": null,
            "top": null,
            "visibility": null,
            "width": null
          }
        },
        "84e6f7e43d3e44dd9bf860917a13fd0c": {
          "model_module": "@jupyter-widgets/controls",
          "model_name": "DescriptionStyleModel",
          "model_module_version": "1.5.0",
          "state": {
            "_model_module": "@jupyter-widgets/controls",
            "_model_module_version": "1.5.0",
            "_model_name": "DescriptionStyleModel",
            "_view_count": null,
            "_view_module": "@jupyter-widgets/base",
            "_view_module_version": "1.2.0",
            "_view_name": "StyleView",
            "description_width": ""
          }
        },
        "16086541b2ef44be8cda1ff05d3db60b": {
          "model_module": "@jupyter-widgets/base",
          "model_name": "LayoutModel",
          "model_module_version": "1.2.0",
          "state": {
            "_model_module": "@jupyter-widgets/base",
            "_model_module_version": "1.2.0",
            "_model_name": "LayoutModel",
            "_view_count": null,
            "_view_module": "@jupyter-widgets/base",
            "_view_module_version": "1.2.0",
            "_view_name": "LayoutView",
            "align_content": null,
            "align_items": null,
            "align_self": null,
            "border": null,
            "bottom": null,
            "display": null,
            "flex": null,
            "flex_flow": null,
            "grid_area": null,
            "grid_auto_columns": null,
            "grid_auto_flow": null,
            "grid_auto_rows": null,
            "grid_column": null,
            "grid_gap": null,
            "grid_row": null,
            "grid_template_areas": null,
            "grid_template_columns": null,
            "grid_template_rows": null,
            "height": null,
            "justify_content": null,
            "justify_items": null,
            "left": null,
            "margin": null,
            "max_height": null,
            "max_width": null,
            "min_height": null,
            "min_width": null,
            "object_fit": null,
            "object_position": null,
            "order": null,
            "overflow": null,
            "overflow_x": null,
            "overflow_y": null,
            "padding": null,
            "right": null,
            "top": null,
            "visibility": null,
            "width": null
          }
        },
        "1d50a004cf074156b49c04755a22cb3d": {
          "model_module": "@jupyter-widgets/controls",
          "model_name": "ProgressStyleModel",
          "model_module_version": "1.5.0",
          "state": {
            "_model_module": "@jupyter-widgets/controls",
            "_model_module_version": "1.5.0",
            "_model_name": "ProgressStyleModel",
            "_view_count": null,
            "_view_module": "@jupyter-widgets/base",
            "_view_module_version": "1.2.0",
            "_view_name": "StyleView",
            "bar_color": null,
            "description_width": ""
          }
        },
        "9bd83feaa7f1466aa3ad91609d22980c": {
          "model_module": "@jupyter-widgets/base",
          "model_name": "LayoutModel",
          "model_module_version": "1.2.0",
          "state": {
            "_model_module": "@jupyter-widgets/base",
            "_model_module_version": "1.2.0",
            "_model_name": "LayoutModel",
            "_view_count": null,
            "_view_module": "@jupyter-widgets/base",
            "_view_module_version": "1.2.0",
            "_view_name": "LayoutView",
            "align_content": null,
            "align_items": null,
            "align_self": null,
            "border": null,
            "bottom": null,
            "display": null,
            "flex": null,
            "flex_flow": null,
            "grid_area": null,
            "grid_auto_columns": null,
            "grid_auto_flow": null,
            "grid_auto_rows": null,
            "grid_column": null,
            "grid_gap": null,
            "grid_row": null,
            "grid_template_areas": null,
            "grid_template_columns": null,
            "grid_template_rows": null,
            "height": null,
            "justify_content": null,
            "justify_items": null,
            "left": null,
            "margin": null,
            "max_height": null,
            "max_width": null,
            "min_height": null,
            "min_width": null,
            "object_fit": null,
            "object_position": null,
            "order": null,
            "overflow": null,
            "overflow_x": null,
            "overflow_y": null,
            "padding": null,
            "right": null,
            "top": null,
            "visibility": null,
            "width": null
          }
        },
        "dc80f634193e4239adc7ddb43b6e9a3d": {
          "model_module": "@jupyter-widgets/controls",
          "model_name": "DescriptionStyleModel",
          "model_module_version": "1.5.0",
          "state": {
            "_model_module": "@jupyter-widgets/controls",
            "_model_module_version": "1.5.0",
            "_model_name": "DescriptionStyleModel",
            "_view_count": null,
            "_view_module": "@jupyter-widgets/base",
            "_view_module_version": "1.2.0",
            "_view_name": "StyleView",
            "description_width": ""
          }
        },
        "857191464822494cb277626382c19704": {
          "model_module": "@jupyter-widgets/controls",
          "model_name": "HBoxModel",
          "model_module_version": "1.5.0",
          "state": {
            "_dom_classes": [],
            "_model_module": "@jupyter-widgets/controls",
            "_model_module_version": "1.5.0",
            "_model_name": "HBoxModel",
            "_view_count": null,
            "_view_module": "@jupyter-widgets/controls",
            "_view_module_version": "1.5.0",
            "_view_name": "HBoxView",
            "box_style": "",
            "children": [
              "IPY_MODEL_d668fbdf1c58415faf2a3813e2cfd113",
              "IPY_MODEL_799ef94a273f4d4187adee6c5c5ca782",
              "IPY_MODEL_cb7f3522828a47cca4275997bb5b1162"
            ],
            "layout": "IPY_MODEL_369c0747ebda482aa5fdbbebd904486f"
          }
        },
        "d668fbdf1c58415faf2a3813e2cfd113": {
          "model_module": "@jupyter-widgets/controls",
          "model_name": "HTMLModel",
          "model_module_version": "1.5.0",
          "state": {
            "_dom_classes": [],
            "_model_module": "@jupyter-widgets/controls",
            "_model_module_version": "1.5.0",
            "_model_name": "HTMLModel",
            "_view_count": null,
            "_view_module": "@jupyter-widgets/controls",
            "_view_module_version": "1.5.0",
            "_view_name": "HTMLView",
            "description": "",
            "description_tooltip": null,
            "layout": "IPY_MODEL_dadf3213933043a182f23154ea6ad98d",
            "placeholder": "​",
            "style": "IPY_MODEL_86ed6518bad340a7aa3ab48085df8edd",
            "value": "Downloading: 100%"
          }
        },
        "799ef94a273f4d4187adee6c5c5ca782": {
          "model_module": "@jupyter-widgets/controls",
          "model_name": "FloatProgressModel",
          "model_module_version": "1.5.0",
          "state": {
            "_dom_classes": [],
            "_model_module": "@jupyter-widgets/controls",
            "_model_module_version": "1.5.0",
            "_model_name": "FloatProgressModel",
            "_view_count": null,
            "_view_module": "@jupyter-widgets/controls",
            "_view_module_version": "1.5.0",
            "_view_name": "ProgressView",
            "bar_style": "success",
            "description": "",
            "description_tooltip": null,
            "layout": "IPY_MODEL_23a27979c2344c92a16e00532642ca2e",
            "max": 1610,
            "min": 0,
            "orientation": "horizontal",
            "style": "IPY_MODEL_0a15b4f5aff14fac8d535d1b0f96cb85",
            "value": 1610
          }
        },
        "cb7f3522828a47cca4275997bb5b1162": {
          "model_module": "@jupyter-widgets/controls",
          "model_name": "HTMLModel",
          "model_module_version": "1.5.0",
          "state": {
            "_dom_classes": [],
            "_model_module": "@jupyter-widgets/controls",
            "_model_module_version": "1.5.0",
            "_model_name": "HTMLModel",
            "_view_count": null,
            "_view_module": "@jupyter-widgets/controls",
            "_view_module_version": "1.5.0",
            "_view_name": "HTMLView",
            "description": "",
            "description_tooltip": null,
            "layout": "IPY_MODEL_260971996e064ae997dfd70fa1ab5f1e",
            "placeholder": "​",
            "style": "IPY_MODEL_9346db7337cd44f5b54c0c5a9b498019",
            "value": " 1.57k/1.57k [00:00&lt;00:00, 90.4kB/s]"
          }
        },
        "369c0747ebda482aa5fdbbebd904486f": {
          "model_module": "@jupyter-widgets/base",
          "model_name": "LayoutModel",
          "model_module_version": "1.2.0",
          "state": {
            "_model_module": "@jupyter-widgets/base",
            "_model_module_version": "1.2.0",
            "_model_name": "LayoutModel",
            "_view_count": null,
            "_view_module": "@jupyter-widgets/base",
            "_view_module_version": "1.2.0",
            "_view_name": "LayoutView",
            "align_content": null,
            "align_items": null,
            "align_self": null,
            "border": null,
            "bottom": null,
            "display": null,
            "flex": null,
            "flex_flow": null,
            "grid_area": null,
            "grid_auto_columns": null,
            "grid_auto_flow": null,
            "grid_auto_rows": null,
            "grid_column": null,
            "grid_gap": null,
            "grid_row": null,
            "grid_template_areas": null,
            "grid_template_columns": null,
            "grid_template_rows": null,
            "height": null,
            "justify_content": null,
            "justify_items": null,
            "left": null,
            "margin": null,
            "max_height": null,
            "max_width": null,
            "min_height": null,
            "min_width": null,
            "object_fit": null,
            "object_position": null,
            "order": null,
            "overflow": null,
            "overflow_x": null,
            "overflow_y": null,
            "padding": null,
            "right": null,
            "top": null,
            "visibility": null,
            "width": null
          }
        },
        "dadf3213933043a182f23154ea6ad98d": {
          "model_module": "@jupyter-widgets/base",
          "model_name": "LayoutModel",
          "model_module_version": "1.2.0",
          "state": {
            "_model_module": "@jupyter-widgets/base",
            "_model_module_version": "1.2.0",
            "_model_name": "LayoutModel",
            "_view_count": null,
            "_view_module": "@jupyter-widgets/base",
            "_view_module_version": "1.2.0",
            "_view_name": "LayoutView",
            "align_content": null,
            "align_items": null,
            "align_self": null,
            "border": null,
            "bottom": null,
            "display": null,
            "flex": null,
            "flex_flow": null,
            "grid_area": null,
            "grid_auto_columns": null,
            "grid_auto_flow": null,
            "grid_auto_rows": null,
            "grid_column": null,
            "grid_gap": null,
            "grid_row": null,
            "grid_template_areas": null,
            "grid_template_columns": null,
            "grid_template_rows": null,
            "height": null,
            "justify_content": null,
            "justify_items": null,
            "left": null,
            "margin": null,
            "max_height": null,
            "max_width": null,
            "min_height": null,
            "min_width": null,
            "object_fit": null,
            "object_position": null,
            "order": null,
            "overflow": null,
            "overflow_x": null,
            "overflow_y": null,
            "padding": null,
            "right": null,
            "top": null,
            "visibility": null,
            "width": null
          }
        },
        "86ed6518bad340a7aa3ab48085df8edd": {
          "model_module": "@jupyter-widgets/controls",
          "model_name": "DescriptionStyleModel",
          "model_module_version": "1.5.0",
          "state": {
            "_model_module": "@jupyter-widgets/controls",
            "_model_module_version": "1.5.0",
            "_model_name": "DescriptionStyleModel",
            "_view_count": null,
            "_view_module": "@jupyter-widgets/base",
            "_view_module_version": "1.2.0",
            "_view_name": "StyleView",
            "description_width": ""
          }
        },
        "23a27979c2344c92a16e00532642ca2e": {
          "model_module": "@jupyter-widgets/base",
          "model_name": "LayoutModel",
          "model_module_version": "1.2.0",
          "state": {
            "_model_module": "@jupyter-widgets/base",
            "_model_module_version": "1.2.0",
            "_model_name": "LayoutModel",
            "_view_count": null,
            "_view_module": "@jupyter-widgets/base",
            "_view_module_version": "1.2.0",
            "_view_name": "LayoutView",
            "align_content": null,
            "align_items": null,
            "align_self": null,
            "border": null,
            "bottom": null,
            "display": null,
            "flex": null,
            "flex_flow": null,
            "grid_area": null,
            "grid_auto_columns": null,
            "grid_auto_flow": null,
            "grid_auto_rows": null,
            "grid_column": null,
            "grid_gap": null,
            "grid_row": null,
            "grid_template_areas": null,
            "grid_template_columns": null,
            "grid_template_rows": null,
            "height": null,
            "justify_content": null,
            "justify_items": null,
            "left": null,
            "margin": null,
            "max_height": null,
            "max_width": null,
            "min_height": null,
            "min_width": null,
            "object_fit": null,
            "object_position": null,
            "order": null,
            "overflow": null,
            "overflow_x": null,
            "overflow_y": null,
            "padding": null,
            "right": null,
            "top": null,
            "visibility": null,
            "width": null
          }
        },
        "0a15b4f5aff14fac8d535d1b0f96cb85": {
          "model_module": "@jupyter-widgets/controls",
          "model_name": "ProgressStyleModel",
          "model_module_version": "1.5.0",
          "state": {
            "_model_module": "@jupyter-widgets/controls",
            "_model_module_version": "1.5.0",
            "_model_name": "ProgressStyleModel",
            "_view_count": null,
            "_view_module": "@jupyter-widgets/base",
            "_view_module_version": "1.2.0",
            "_view_name": "StyleView",
            "bar_color": null,
            "description_width": ""
          }
        },
        "260971996e064ae997dfd70fa1ab5f1e": {
          "model_module": "@jupyter-widgets/base",
          "model_name": "LayoutModel",
          "model_module_version": "1.2.0",
          "state": {
            "_model_module": "@jupyter-widgets/base",
            "_model_module_version": "1.2.0",
            "_model_name": "LayoutModel",
            "_view_count": null,
            "_view_module": "@jupyter-widgets/base",
            "_view_module_version": "1.2.0",
            "_view_name": "LayoutView",
            "align_content": null,
            "align_items": null,
            "align_self": null,
            "border": null,
            "bottom": null,
            "display": null,
            "flex": null,
            "flex_flow": null,
            "grid_area": null,
            "grid_auto_columns": null,
            "grid_auto_flow": null,
            "grid_auto_rows": null,
            "grid_column": null,
            "grid_gap": null,
            "grid_row": null,
            "grid_template_areas": null,
            "grid_template_columns": null,
            "grid_template_rows": null,
            "height": null,
            "justify_content": null,
            "justify_items": null,
            "left": null,
            "margin": null,
            "max_height": null,
            "max_width": null,
            "min_height": null,
            "min_width": null,
            "object_fit": null,
            "object_position": null,
            "order": null,
            "overflow": null,
            "overflow_x": null,
            "overflow_y": null,
            "padding": null,
            "right": null,
            "top": null,
            "visibility": null,
            "width": null
          }
        },
        "9346db7337cd44f5b54c0c5a9b498019": {
          "model_module": "@jupyter-widgets/controls",
          "model_name": "DescriptionStyleModel",
          "model_module_version": "1.5.0",
          "state": {
            "_model_module": "@jupyter-widgets/controls",
            "_model_module_version": "1.5.0",
            "_model_name": "DescriptionStyleModel",
            "_view_count": null,
            "_view_module": "@jupyter-widgets/base",
            "_view_module_version": "1.2.0",
            "_view_name": "StyleView",
            "description_width": ""
          }
        },
        "a631bb9216dc4673a8ac76a4483f90dd": {
          "model_module": "@jupyter-widgets/controls",
          "model_name": "HBoxModel",
          "model_module_version": "1.5.0",
          "state": {
            "_dom_classes": [],
            "_model_module": "@jupyter-widgets/controls",
            "_model_module_version": "1.5.0",
            "_model_name": "HBoxModel",
            "_view_count": null,
            "_view_module": "@jupyter-widgets/controls",
            "_view_module_version": "1.5.0",
            "_view_name": "HBoxView",
            "box_style": "",
            "children": [
              "IPY_MODEL_cf25f2196b35466382bcd11d9e19d864",
              "IPY_MODEL_fcbbe93dffc941e39df7ed6c25a119d8",
              "IPY_MODEL_311cb54eb96c456b8b3a304d6001eec4"
            ],
            "layout": "IPY_MODEL_8ad52fdd612642399bbca1ade7fd8a12"
          }
        },
        "cf25f2196b35466382bcd11d9e19d864": {
          "model_module": "@jupyter-widgets/controls",
          "model_name": "HTMLModel",
          "model_module_version": "1.5.0",
          "state": {
            "_dom_classes": [],
            "_model_module": "@jupyter-widgets/controls",
            "_model_module_version": "1.5.0",
            "_model_name": "HTMLModel",
            "_view_count": null,
            "_view_module": "@jupyter-widgets/controls",
            "_view_module_version": "1.5.0",
            "_view_name": "HTMLView",
            "description": "",
            "description_tooltip": null,
            "layout": "IPY_MODEL_42a5cf878c6948e8a2430d4684831701",
            "placeholder": "​",
            "style": "IPY_MODEL_fb237517e4e549458bcc933573de6308",
            "value": "Downloading: 100%"
          }
        },
        "fcbbe93dffc941e39df7ed6c25a119d8": {
          "model_module": "@jupyter-widgets/controls",
          "model_name": "FloatProgressModel",
          "model_module_version": "1.5.0",
          "state": {
            "_dom_classes": [],
            "_model_module": "@jupyter-widgets/controls",
            "_model_module_version": "1.5.0",
            "_model_name": "FloatProgressModel",
            "_view_count": null,
            "_view_module": "@jupyter-widgets/controls",
            "_view_module_version": "1.5.0",
            "_view_name": "ProgressView",
            "bar_style": "success",
            "description": "",
            "description_tooltip": null,
            "layout": "IPY_MODEL_199ab617826f4ce58760ea88a023f5a4",
            "max": 181,
            "min": 0,
            "orientation": "horizontal",
            "style": "IPY_MODEL_baae4d92aa864ec180d78ef3110b0888",
            "value": 181
          }
        },
        "311cb54eb96c456b8b3a304d6001eec4": {
          "model_module": "@jupyter-widgets/controls",
          "model_name": "HTMLModel",
          "model_module_version": "1.5.0",
          "state": {
            "_dom_classes": [],
            "_model_module": "@jupyter-widgets/controls",
            "_model_module_version": "1.5.0",
            "_model_name": "HTMLModel",
            "_view_count": null,
            "_view_module": "@jupyter-widgets/controls",
            "_view_module_version": "1.5.0",
            "_view_name": "HTMLView",
            "description": "",
            "description_tooltip": null,
            "layout": "IPY_MODEL_908a1b53ef0d4b25af7c5a8aa486399f",
            "placeholder": "​",
            "style": "IPY_MODEL_73153fd325a74ea8a367e52e9b6ea5d2",
            "value": " 181/181 [00:00&lt;00:00, 12.1kB/s]"
          }
        },
        "8ad52fdd612642399bbca1ade7fd8a12": {
          "model_module": "@jupyter-widgets/base",
          "model_name": "LayoutModel",
          "model_module_version": "1.2.0",
          "state": {
            "_model_module": "@jupyter-widgets/base",
            "_model_module_version": "1.2.0",
            "_model_name": "LayoutModel",
            "_view_count": null,
            "_view_module": "@jupyter-widgets/base",
            "_view_module_version": "1.2.0",
            "_view_name": "LayoutView",
            "align_content": null,
            "align_items": null,
            "align_self": null,
            "border": null,
            "bottom": null,
            "display": null,
            "flex": null,
            "flex_flow": null,
            "grid_area": null,
            "grid_auto_columns": null,
            "grid_auto_flow": null,
            "grid_auto_rows": null,
            "grid_column": null,
            "grid_gap": null,
            "grid_row": null,
            "grid_template_areas": null,
            "grid_template_columns": null,
            "grid_template_rows": null,
            "height": null,
            "justify_content": null,
            "justify_items": null,
            "left": null,
            "margin": null,
            "max_height": null,
            "max_width": null,
            "min_height": null,
            "min_width": null,
            "object_fit": null,
            "object_position": null,
            "order": null,
            "overflow": null,
            "overflow_x": null,
            "overflow_y": null,
            "padding": null,
            "right": null,
            "top": null,
            "visibility": null,
            "width": null
          }
        },
        "42a5cf878c6948e8a2430d4684831701": {
          "model_module": "@jupyter-widgets/base",
          "model_name": "LayoutModel",
          "model_module_version": "1.2.0",
          "state": {
            "_model_module": "@jupyter-widgets/base",
            "_model_module_version": "1.2.0",
            "_model_name": "LayoutModel",
            "_view_count": null,
            "_view_module": "@jupyter-widgets/base",
            "_view_module_version": "1.2.0",
            "_view_name": "LayoutView",
            "align_content": null,
            "align_items": null,
            "align_self": null,
            "border": null,
            "bottom": null,
            "display": null,
            "flex": null,
            "flex_flow": null,
            "grid_area": null,
            "grid_auto_columns": null,
            "grid_auto_flow": null,
            "grid_auto_rows": null,
            "grid_column": null,
            "grid_gap": null,
            "grid_row": null,
            "grid_template_areas": null,
            "grid_template_columns": null,
            "grid_template_rows": null,
            "height": null,
            "justify_content": null,
            "justify_items": null,
            "left": null,
            "margin": null,
            "max_height": null,
            "max_width": null,
            "min_height": null,
            "min_width": null,
            "object_fit": null,
            "object_position": null,
            "order": null,
            "overflow": null,
            "overflow_x": null,
            "overflow_y": null,
            "padding": null,
            "right": null,
            "top": null,
            "visibility": null,
            "width": null
          }
        },
        "fb237517e4e549458bcc933573de6308": {
          "model_module": "@jupyter-widgets/controls",
          "model_name": "DescriptionStyleModel",
          "model_module_version": "1.5.0",
          "state": {
            "_model_module": "@jupyter-widgets/controls",
            "_model_module_version": "1.5.0",
            "_model_name": "DescriptionStyleModel",
            "_view_count": null,
            "_view_module": "@jupyter-widgets/base",
            "_view_module_version": "1.2.0",
            "_view_name": "StyleView",
            "description_width": ""
          }
        },
        "199ab617826f4ce58760ea88a023f5a4": {
          "model_module": "@jupyter-widgets/base",
          "model_name": "LayoutModel",
          "model_module_version": "1.2.0",
          "state": {
            "_model_module": "@jupyter-widgets/base",
            "_model_module_version": "1.2.0",
            "_model_name": "LayoutModel",
            "_view_count": null,
            "_view_module": "@jupyter-widgets/base",
            "_view_module_version": "1.2.0",
            "_view_name": "LayoutView",
            "align_content": null,
            "align_items": null,
            "align_self": null,
            "border": null,
            "bottom": null,
            "display": null,
            "flex": null,
            "flex_flow": null,
            "grid_area": null,
            "grid_auto_columns": null,
            "grid_auto_flow": null,
            "grid_auto_rows": null,
            "grid_column": null,
            "grid_gap": null,
            "grid_row": null,
            "grid_template_areas": null,
            "grid_template_columns": null,
            "grid_template_rows": null,
            "height": null,
            "justify_content": null,
            "justify_items": null,
            "left": null,
            "margin": null,
            "max_height": null,
            "max_width": null,
            "min_height": null,
            "min_width": null,
            "object_fit": null,
            "object_position": null,
            "order": null,
            "overflow": null,
            "overflow_x": null,
            "overflow_y": null,
            "padding": null,
            "right": null,
            "top": null,
            "visibility": null,
            "width": null
          }
        },
        "baae4d92aa864ec180d78ef3110b0888": {
          "model_module": "@jupyter-widgets/controls",
          "model_name": "ProgressStyleModel",
          "model_module_version": "1.5.0",
          "state": {
            "_model_module": "@jupyter-widgets/controls",
            "_model_module_version": "1.5.0",
            "_model_name": "ProgressStyleModel",
            "_view_count": null,
            "_view_module": "@jupyter-widgets/base",
            "_view_module_version": "1.2.0",
            "_view_name": "StyleView",
            "bar_color": null,
            "description_width": ""
          }
        },
        "908a1b53ef0d4b25af7c5a8aa486399f": {
          "model_module": "@jupyter-widgets/base",
          "model_name": "LayoutModel",
          "model_module_version": "1.2.0",
          "state": {
            "_model_module": "@jupyter-widgets/base",
            "_model_module_version": "1.2.0",
            "_model_name": "LayoutModel",
            "_view_count": null,
            "_view_module": "@jupyter-widgets/base",
            "_view_module_version": "1.2.0",
            "_view_name": "LayoutView",
            "align_content": null,
            "align_items": null,
            "align_self": null,
            "border": null,
            "bottom": null,
            "display": null,
            "flex": null,
            "flex_flow": null,
            "grid_area": null,
            "grid_auto_columns": null,
            "grid_auto_flow": null,
            "grid_auto_rows": null,
            "grid_column": null,
            "grid_gap": null,
            "grid_row": null,
            "grid_template_areas": null,
            "grid_template_columns": null,
            "grid_template_rows": null,
            "height": null,
            "justify_content": null,
            "justify_items": null,
            "left": null,
            "margin": null,
            "max_height": null,
            "max_width": null,
            "min_height": null,
            "min_width": null,
            "object_fit": null,
            "object_position": null,
            "order": null,
            "overflow": null,
            "overflow_x": null,
            "overflow_y": null,
            "padding": null,
            "right": null,
            "top": null,
            "visibility": null,
            "width": null
          }
        },
        "73153fd325a74ea8a367e52e9b6ea5d2": {
          "model_module": "@jupyter-widgets/controls",
          "model_name": "DescriptionStyleModel",
          "model_module_version": "1.5.0",
          "state": {
            "_model_module": "@jupyter-widgets/controls",
            "_model_module_version": "1.5.0",
            "_model_name": "DescriptionStyleModel",
            "_view_count": null,
            "_view_module": "@jupyter-widgets/base",
            "_view_module_version": "1.2.0",
            "_view_name": "StyleView",
            "description_width": ""
          }
        },
        "e483e5323f984affa326536d266173a4": {
          "model_module": "@jupyter-widgets/controls",
          "model_name": "HBoxModel",
          "model_module_version": "1.5.0",
          "state": {
            "_dom_classes": [],
            "_model_module": "@jupyter-widgets/controls",
            "_model_module_version": "1.5.0",
            "_model_name": "HBoxModel",
            "_view_count": null,
            "_view_module": "@jupyter-widgets/controls",
            "_view_module_version": "1.5.0",
            "_view_name": "HBoxView",
            "box_style": "",
            "children": [
              "IPY_MODEL_787a27b2cc5b40f8b963005a64c6abad",
              "IPY_MODEL_09c448a77fd14597930adc7cdb3f1d33",
              "IPY_MODEL_5ec63c849bcc4ddeba867f3eecfe0896"
            ],
            "layout": "IPY_MODEL_5fdb053f7e5b4f519e6366811709f580"
          }
        },
        "787a27b2cc5b40f8b963005a64c6abad": {
          "model_module": "@jupyter-widgets/controls",
          "model_name": "HTMLModel",
          "model_module_version": "1.5.0",
          "state": {
            "_dom_classes": [],
            "_model_module": "@jupyter-widgets/controls",
            "_model_module_version": "1.5.0",
            "_model_name": "HTMLModel",
            "_view_count": null,
            "_view_module": "@jupyter-widgets/controls",
            "_view_module_version": "1.5.0",
            "_view_name": "HTMLView",
            "description": "",
            "description_tooltip": null,
            "layout": "IPY_MODEL_30e1522dc7f54203a1ad1def4e3e66e0",
            "placeholder": "​",
            "style": "IPY_MODEL_2aa3fd294b5f469588928aa6a9d62083",
            "value": "Downloading: 100%"
          }
        },
        "09c448a77fd14597930adc7cdb3f1d33": {
          "model_module": "@jupyter-widgets/controls",
          "model_name": "FloatProgressModel",
          "model_module_version": "1.5.0",
          "state": {
            "_dom_classes": [],
            "_model_module": "@jupyter-widgets/controls",
            "_model_module_version": "1.5.0",
            "_model_name": "FloatProgressModel",
            "_view_count": null,
            "_view_module": "@jupyter-widgets/controls",
            "_view_module_version": "1.5.0",
            "_view_name": "ProgressView",
            "bar_style": "success",
            "description": "",
            "description_tooltip": null,
            "layout": "IPY_MODEL_3796e0e0723c4644b35103c79daf7018",
            "max": 85,
            "min": 0,
            "orientation": "horizontal",
            "style": "IPY_MODEL_d8e1a62bbc244a62bf11e79aa171cb6f",
            "value": 85
          }
        },
        "5ec63c849bcc4ddeba867f3eecfe0896": {
          "model_module": "@jupyter-widgets/controls",
          "model_name": "HTMLModel",
          "model_module_version": "1.5.0",
          "state": {
            "_dom_classes": [],
            "_model_module": "@jupyter-widgets/controls",
            "_model_module_version": "1.5.0",
            "_model_name": "HTMLModel",
            "_view_count": null,
            "_view_module": "@jupyter-widgets/controls",
            "_view_module_version": "1.5.0",
            "_view_name": "HTMLView",
            "description": "",
            "description_tooltip": null,
            "layout": "IPY_MODEL_c7fbe0340455419ca6b33f814b753560",
            "placeholder": "​",
            "style": "IPY_MODEL_22b693e6bcbf4132ab9b79b1e1e83883",
            "value": " 85.0/85.0 [00:00&lt;00:00, 5.24kB/s]"
          }
        },
        "5fdb053f7e5b4f519e6366811709f580": {
          "model_module": "@jupyter-widgets/base",
          "model_name": "LayoutModel",
          "model_module_version": "1.2.0",
          "state": {
            "_model_module": "@jupyter-widgets/base",
            "_model_module_version": "1.2.0",
            "_model_name": "LayoutModel",
            "_view_count": null,
            "_view_module": "@jupyter-widgets/base",
            "_view_module_version": "1.2.0",
            "_view_name": "LayoutView",
            "align_content": null,
            "align_items": null,
            "align_self": null,
            "border": null,
            "bottom": null,
            "display": null,
            "flex": null,
            "flex_flow": null,
            "grid_area": null,
            "grid_auto_columns": null,
            "grid_auto_flow": null,
            "grid_auto_rows": null,
            "grid_column": null,
            "grid_gap": null,
            "grid_row": null,
            "grid_template_areas": null,
            "grid_template_columns": null,
            "grid_template_rows": null,
            "height": null,
            "justify_content": null,
            "justify_items": null,
            "left": null,
            "margin": null,
            "max_height": null,
            "max_width": null,
            "min_height": null,
            "min_width": null,
            "object_fit": null,
            "object_position": null,
            "order": null,
            "overflow": null,
            "overflow_x": null,
            "overflow_y": null,
            "padding": null,
            "right": null,
            "top": null,
            "visibility": null,
            "width": null
          }
        },
        "30e1522dc7f54203a1ad1def4e3e66e0": {
          "model_module": "@jupyter-widgets/base",
          "model_name": "LayoutModel",
          "model_module_version": "1.2.0",
          "state": {
            "_model_module": "@jupyter-widgets/base",
            "_model_module_version": "1.2.0",
            "_model_name": "LayoutModel",
            "_view_count": null,
            "_view_module": "@jupyter-widgets/base",
            "_view_module_version": "1.2.0",
            "_view_name": "LayoutView",
            "align_content": null,
            "align_items": null,
            "align_self": null,
            "border": null,
            "bottom": null,
            "display": null,
            "flex": null,
            "flex_flow": null,
            "grid_area": null,
            "grid_auto_columns": null,
            "grid_auto_flow": null,
            "grid_auto_rows": null,
            "grid_column": null,
            "grid_gap": null,
            "grid_row": null,
            "grid_template_areas": null,
            "grid_template_columns": null,
            "grid_template_rows": null,
            "height": null,
            "justify_content": null,
            "justify_items": null,
            "left": null,
            "margin": null,
            "max_height": null,
            "max_width": null,
            "min_height": null,
            "min_width": null,
            "object_fit": null,
            "object_position": null,
            "order": null,
            "overflow": null,
            "overflow_x": null,
            "overflow_y": null,
            "padding": null,
            "right": null,
            "top": null,
            "visibility": null,
            "width": null
          }
        },
        "2aa3fd294b5f469588928aa6a9d62083": {
          "model_module": "@jupyter-widgets/controls",
          "model_name": "DescriptionStyleModel",
          "model_module_version": "1.5.0",
          "state": {
            "_model_module": "@jupyter-widgets/controls",
            "_model_module_version": "1.5.0",
            "_model_name": "DescriptionStyleModel",
            "_view_count": null,
            "_view_module": "@jupyter-widgets/base",
            "_view_module_version": "1.2.0",
            "_view_name": "StyleView",
            "description_width": ""
          }
        },
        "3796e0e0723c4644b35103c79daf7018": {
          "model_module": "@jupyter-widgets/base",
          "model_name": "LayoutModel",
          "model_module_version": "1.2.0",
          "state": {
            "_model_module": "@jupyter-widgets/base",
            "_model_module_version": "1.2.0",
            "_model_name": "LayoutModel",
            "_view_count": null,
            "_view_module": "@jupyter-widgets/base",
            "_view_module_version": "1.2.0",
            "_view_name": "LayoutView",
            "align_content": null,
            "align_items": null,
            "align_self": null,
            "border": null,
            "bottom": null,
            "display": null,
            "flex": null,
            "flex_flow": null,
            "grid_area": null,
            "grid_auto_columns": null,
            "grid_auto_flow": null,
            "grid_auto_rows": null,
            "grid_column": null,
            "grid_gap": null,
            "grid_row": null,
            "grid_template_areas": null,
            "grid_template_columns": null,
            "grid_template_rows": null,
            "height": null,
            "justify_content": null,
            "justify_items": null,
            "left": null,
            "margin": null,
            "max_height": null,
            "max_width": null,
            "min_height": null,
            "min_width": null,
            "object_fit": null,
            "object_position": null,
            "order": null,
            "overflow": null,
            "overflow_x": null,
            "overflow_y": null,
            "padding": null,
            "right": null,
            "top": null,
            "visibility": null,
            "width": null
          }
        },
        "d8e1a62bbc244a62bf11e79aa171cb6f": {
          "model_module": "@jupyter-widgets/controls",
          "model_name": "ProgressStyleModel",
          "model_module_version": "1.5.0",
          "state": {
            "_model_module": "@jupyter-widgets/controls",
            "_model_module_version": "1.5.0",
            "_model_name": "ProgressStyleModel",
            "_view_count": null,
            "_view_module": "@jupyter-widgets/base",
            "_view_module_version": "1.2.0",
            "_view_name": "StyleView",
            "bar_color": null,
            "description_width": ""
          }
        },
        "c7fbe0340455419ca6b33f814b753560": {
          "model_module": "@jupyter-widgets/base",
          "model_name": "LayoutModel",
          "model_module_version": "1.2.0",
          "state": {
            "_model_module": "@jupyter-widgets/base",
            "_model_module_version": "1.2.0",
            "_model_name": "LayoutModel",
            "_view_count": null,
            "_view_module": "@jupyter-widgets/base",
            "_view_module_version": "1.2.0",
            "_view_name": "LayoutView",
            "align_content": null,
            "align_items": null,
            "align_self": null,
            "border": null,
            "bottom": null,
            "display": null,
            "flex": null,
            "flex_flow": null,
            "grid_area": null,
            "grid_auto_columns": null,
            "grid_auto_flow": null,
            "grid_auto_rows": null,
            "grid_column": null,
            "grid_gap": null,
            "grid_row": null,
            "grid_template_areas": null,
            "grid_template_columns": null,
            "grid_template_rows": null,
            "height": null,
            "justify_content": null,
            "justify_items": null,
            "left": null,
            "margin": null,
            "max_height": null,
            "max_width": null,
            "min_height": null,
            "min_width": null,
            "object_fit": null,
            "object_position": null,
            "order": null,
            "overflow": null,
            "overflow_x": null,
            "overflow_y": null,
            "padding": null,
            "right": null,
            "top": null,
            "visibility": null,
            "width": null
          }
        },
        "22b693e6bcbf4132ab9b79b1e1e83883": {
          "model_module": "@jupyter-widgets/controls",
          "model_name": "DescriptionStyleModel",
          "model_module_version": "1.5.0",
          "state": {
            "_model_module": "@jupyter-widgets/controls",
            "_model_module_version": "1.5.0",
            "_model_name": "DescriptionStyleModel",
            "_view_count": null,
            "_view_module": "@jupyter-widgets/base",
            "_view_module_version": "1.2.0",
            "_view_name": "StyleView",
            "description_width": ""
          }
        }
      }
    }
  },
  "nbformat": 4,
  "nbformat_minor": 0
}